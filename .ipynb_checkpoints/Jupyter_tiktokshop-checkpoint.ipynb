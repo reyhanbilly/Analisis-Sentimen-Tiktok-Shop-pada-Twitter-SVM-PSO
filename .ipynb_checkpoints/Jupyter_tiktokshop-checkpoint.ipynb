{
 "cells": [
  {
   "cell_type": "markdown",
   "id": "1f78ed1b-e40f-4135-ae22-2e82ad2a2ccd",
   "metadata": {},
   "source": [
    "# ANALISIS SENTIMEN TIKTOK SHOP MENGGUNAKAN METODE SVM PSO"
   ]
  },
  {
   "cell_type": "code",
   "execution_count": 2,
   "id": "d1ddb552-24fd-44e3-9a42-6b48ff7063c4",
   "metadata": {},
   "outputs": [],
   "source": [
    "import pandas as pd\n",
    "import numpy as np\n",
    "import datetime as dt\n",
    "import matplotlib.pyplot as plt\n",
    "import nltk\n",
    "import seaborn as sns\n",
    "from Sastrawi.Stemmer.StemmerFactory import StemmerFactory\n",
    "import swifter\n",
    "import re\n",
    "import string\n",
    "from nltk.corpus import stopwords\n",
    "from nltk.tokenize import word_tokenize\n",
    "from sklearn.preprocessing import LabelEncoder\n",
    "from sklearn import svm\n",
    "from sklearn import model_selection\n",
    "from sklearn.model_selection import train_test_split, cross_val_score, KFold\n",
    "from sklearn.metrics import classification_report, confusion_matrix, precision_score, recall_score, f1_score,accuracy_score\n",
    "from sklearn.feature_extraction.text import TfidfVectorizer\n",
    "import random\n",
    "import time\n",
    "from imblearn.over_sampling import SMOTE"
   ]
  },
  {
   "cell_type": "markdown",
   "id": "b32fe8cd-16d2-4acc-ba24-016ff30308aa",
   "metadata": {
    "jp-MarkdownHeadingCollapsed": true
   },
   "source": [
    "# PREPROCESSING"
   ]
  },
  {
   "cell_type": "code",
   "execution_count": 5,
   "id": "32478db0-9c5c-4e33-9142-5cea3119b733",
   "metadata": {},
   "outputs": [
    {
     "data": {
      "text/html": [
       "<div>\n",
       "<style scoped>\n",
       "    .dataframe tbody tr th:only-of-type {\n",
       "        vertical-align: middle;\n",
       "    }\n",
       "\n",
       "    .dataframe tbody tr th {\n",
       "        vertical-align: top;\n",
       "    }\n",
       "\n",
       "    .dataframe thead th {\n",
       "        text-align: right;\n",
       "    }\n",
       "</style>\n",
       "<table border=\"1\" class=\"dataframe\">\n",
       "  <thead>\n",
       "    <tr style=\"text-align: right;\">\n",
       "      <th></th>\n",
       "      <th>Tweet</th>\n",
       "      <th>preprocessed</th>\n",
       "      <th>Sentimen</th>\n",
       "      <th>Subjectivity</th>\n",
       "      <th>Polarity</th>\n",
       "      <th>Sentiment</th>\n",
       "    </tr>\n",
       "  </thead>\n",
       "  <tbody>\n",
       "    <tr>\n",
       "      <th>0</th>\n",
       "      <td>tolong tiktokshop jangan ditutup dulu sampe ak...</td>\n",
       "      <td>tolong tiktok shop jangan ditutup dulu sampai ...</td>\n",
       "      <td>Neutral</td>\n",
       "      <td>0.000000</td>\n",
       "      <td>0.000000</td>\n",
       "      <td>Neutral</td>\n",
       "    </tr>\n",
       "    <tr>\n",
       "      <th>1</th>\n",
       "      <td>kalau tiktok shop bener2 ditutup, tiktok ads a...</td>\n",
       "      <td>kalau tiktok shop benar ditutup tiktok iklan a...</td>\n",
       "      <td>Positive</td>\n",
       "      <td>0.300000</td>\n",
       "      <td>0.200000</td>\n",
       "      <td>Positive</td>\n",
       "    </tr>\n",
       "    <tr>\n",
       "      <th>2</th>\n",
       "      <td>Anj lahh tiktok shop mau ditutup mana itu rese...</td>\n",
       "      <td>anjing lahh tiktok shop mau ditutup mana itu r...</td>\n",
       "      <td>Positive</td>\n",
       "      <td>0.216667</td>\n",
       "      <td>0.075000</td>\n",
       "      <td>Positive</td>\n",
       "    </tr>\n",
       "    <tr>\n",
       "      <th>3</th>\n",
       "      <td>sbg yg sering beli barang via tiktokshop drpd ...</td>\n",
       "      <td>sebagai yang sering beli barang melalui tiktok...</td>\n",
       "      <td>Positive</td>\n",
       "      <td>0.700000</td>\n",
       "      <td>0.133333</td>\n",
       "      <td>Positive</td>\n",
       "    </tr>\n",
       "    <tr>\n",
       "      <th>4</th>\n",
       "      <td>TikTok Shop ditutup gak bikin orang berbondong...</td>\n",
       "      <td>tiktok shop ditutup tidak bikin orang berbondo...</td>\n",
       "      <td>Positive</td>\n",
       "      <td>0.300000</td>\n",
       "      <td>0.200000</td>\n",
       "      <td>Positive</td>\n",
       "    </tr>\n",
       "  </tbody>\n",
       "</table>\n",
       "</div>"
      ],
      "text/plain": [
       "                                               Tweet  \\\n",
       "0  tolong tiktokshop jangan ditutup dulu sampe ak...   \n",
       "1  kalau tiktok shop bener2 ditutup, tiktok ads a...   \n",
       "2  Anj lahh tiktok shop mau ditutup mana itu rese...   \n",
       "3  sbg yg sering beli barang via tiktokshop drpd ...   \n",
       "4  TikTok Shop ditutup gak bikin orang berbondong...   \n",
       "\n",
       "                                        preprocessed  Sentimen  Subjectivity  \\\n",
       "0  tolong tiktok shop jangan ditutup dulu sampai ...   Neutral      0.000000   \n",
       "1  kalau tiktok shop benar ditutup tiktok iklan a...  Positive      0.300000   \n",
       "2  anjing lahh tiktok shop mau ditutup mana itu r...  Positive      0.216667   \n",
       "3  sebagai yang sering beli barang melalui tiktok...  Positive      0.700000   \n",
       "4  tiktok shop ditutup tidak bikin orang berbondo...  Positive      0.300000   \n",
       "\n",
       "   Polarity Sentiment  \n",
       "0  0.000000   Neutral  \n",
       "1  0.200000  Positive  \n",
       "2  0.075000  Positive  \n",
       "3  0.133333  Positive  \n",
       "4  0.200000  Positive  "
      ]
     },
     "execution_count": 5,
     "metadata": {},
     "output_type": "execute_result"
    }
   ],
   "source": [
    "dataset_path ='test_databaru_labeled2.csv'\n",
    "df = pd.read_csv(dataset_path)\n",
    "df.head()"
   ]
  },
  {
   "cell_type": "code",
   "execution_count": 6,
   "id": "0f2f82ad-aa31-4be7-b05d-aba26e3b1dd9",
   "metadata": {},
   "outputs": [
    {
     "name": "stdout",
     "output_type": "stream",
     "text": [
      "<class 'pandas.core.frame.DataFrame'>\n",
      "RangeIndex: 2562 entries, 0 to 2561\n",
      "Data columns (total 6 columns):\n",
      " #   Column        Non-Null Count  Dtype  \n",
      "---  ------        --------------  -----  \n",
      " 0   Tweet         2562 non-null   object \n",
      " 1   preprocessed  2562 non-null   object \n",
      " 2   Sentimen      2562 non-null   object \n",
      " 3   Subjectivity  2549 non-null   float64\n",
      " 4   Polarity      2560 non-null   float64\n",
      " 5   Sentiment     2562 non-null   object \n",
      "dtypes: float64(2), object(4)\n",
      "memory usage: 120.2+ KB\n"
     ]
    }
   ],
   "source": [
    "df.info()"
   ]
  },
  {
   "cell_type": "markdown",
   "id": "fd18f2bf-06ac-4125-9528-d6121b172998",
   "metadata": {},
   "source": [
    "### CaseFolding"
   ]
  },
  {
   "cell_type": "code",
   "execution_count": 8,
   "id": "19978f2c-3d54-4cf4-9a67-7ac167cbb4c1",
   "metadata": {},
   "outputs": [
    {
     "data": {
      "text/html": [
       "<div>\n",
       "<style scoped>\n",
       "    .dataframe tbody tr th:only-of-type {\n",
       "        vertical-align: middle;\n",
       "    }\n",
       "\n",
       "    .dataframe tbody tr th {\n",
       "        vertical-align: top;\n",
       "    }\n",
       "\n",
       "    .dataframe thead th {\n",
       "        text-align: right;\n",
       "    }\n",
       "</style>\n",
       "<table border=\"1\" class=\"dataframe\">\n",
       "  <thead>\n",
       "    <tr style=\"text-align: right;\">\n",
       "      <th></th>\n",
       "      <th>Tweet</th>\n",
       "      <th>Sentimen</th>\n",
       "      <th>CaseFolding</th>\n",
       "    </tr>\n",
       "  </thead>\n",
       "  <tbody>\n",
       "    <tr>\n",
       "      <th>0</th>\n",
       "      <td>tolong tiktokshop jangan ditutup dulu sampe ak...</td>\n",
       "      <td>Netral</td>\n",
       "      <td>tolong tiktokshop jangan ditutup dulu sampe ak...</td>\n",
       "    </tr>\n",
       "    <tr>\n",
       "      <th>1</th>\n",
       "      <td>kalau tiktok shop bener2 ditutup, tiktok ads a...</td>\n",
       "      <td>Positif</td>\n",
       "      <td>kalau tiktok shop bener2 ditutup, tiktok ads a...</td>\n",
       "    </tr>\n",
       "    <tr>\n",
       "      <th>2</th>\n",
       "      <td>Anj lahh tiktok shop mau ditutup mana itu rese...</td>\n",
       "      <td>Positif</td>\n",
       "      <td>anj lahh tiktok shop mau ditutup mana itu rese...</td>\n",
       "    </tr>\n",
       "    <tr>\n",
       "      <th>3</th>\n",
       "      <td>sbg yg sering beli barang via tiktokshop drpd ...</td>\n",
       "      <td>Positif</td>\n",
       "      <td>sbg yg sering beli barang via tiktokshop drpd ...</td>\n",
       "    </tr>\n",
       "    <tr>\n",
       "      <th>4</th>\n",
       "      <td>TikTok Shop ditutup gak bikin orang berbondong...</td>\n",
       "      <td>Positif</td>\n",
       "      <td>tiktok shop ditutup gak bikin orang berbondong...</td>\n",
       "    </tr>\n",
       "    <tr>\n",
       "      <th>...</th>\n",
       "      <td>...</td>\n",
       "      <td>...</td>\n",
       "      <td>...</td>\n",
       "    </tr>\n",
       "    <tr>\n",
       "      <th>2557</th>\n",
       "      <td>tiktok shop ada lagi anjayÃ°Å¸ËœÂ­</td>\n",
       "      <td>Netral</td>\n",
       "      <td>tiktok shop ada lagi anjayã°å¸ëœâ­</td>\n",
       "    </tr>\n",
       "    <tr>\n",
       "      <th>2558</th>\n",
       "      <td>Tiktokshop balik takut khilaf nanti belanja ba...</td>\n",
       "      <td>Negatif</td>\n",
       "      <td>tiktokshop balik takut khilaf nanti belanja ba...</td>\n",
       "    </tr>\n",
       "    <tr>\n",
       "      <th>2559</th>\n",
       "      <td>@berlianidris Lha itu Tiktok Shop Live gitu ka...</td>\n",
       "      <td>Positif</td>\n",
       "      <td>@berlianidris lha itu tiktok shop live gitu ka...</td>\n",
       "    </tr>\n",
       "    <tr>\n",
       "      <th>2560</th>\n",
       "      <td>Tanyarl info jadi buzzer tiktok shop dong gais</td>\n",
       "      <td>Netral</td>\n",
       "      <td>tanyarl info jadi buzzer tiktok shop dong gais</td>\n",
       "    </tr>\n",
       "    <tr>\n",
       "      <th>2561</th>\n",
       "      <td>Tiktok shop baru muncul 2 hari udah kalapnya g...</td>\n",
       "      <td>Netral</td>\n",
       "      <td>tiktok shop baru muncul 2 hari udah kalapnya g...</td>\n",
       "    </tr>\n",
       "  </tbody>\n",
       "</table>\n",
       "<p>2562 rows × 3 columns</p>\n",
       "</div>"
      ],
      "text/plain": [
       "                                                  Tweet Sentimen  \\\n",
       "0     tolong tiktokshop jangan ditutup dulu sampe ak...   Netral   \n",
       "1     kalau tiktok shop bener2 ditutup, tiktok ads a...  Positif   \n",
       "2     Anj lahh tiktok shop mau ditutup mana itu rese...  Positif   \n",
       "3     sbg yg sering beli barang via tiktokshop drpd ...  Positif   \n",
       "4     TikTok Shop ditutup gak bikin orang berbondong...  Positif   \n",
       "...                                                 ...      ...   \n",
       "2557                 tiktok shop ada lagi anjayÃ°Å¸ËœÂ­   Netral   \n",
       "2558  Tiktokshop balik takut khilaf nanti belanja ba...  Negatif   \n",
       "2559  @berlianidris Lha itu Tiktok Shop Live gitu ka...  Positif   \n",
       "2560     Tanyarl info jadi buzzer tiktok shop dong gais   Netral   \n",
       "2561  Tiktok shop baru muncul 2 hari udah kalapnya g...   Netral   \n",
       "\n",
       "                                            CaseFolding  \n",
       "0     tolong tiktokshop jangan ditutup dulu sampe ak...  \n",
       "1     kalau tiktok shop bener2 ditutup, tiktok ads a...  \n",
       "2     anj lahh tiktok shop mau ditutup mana itu rese...  \n",
       "3     sbg yg sering beli barang via tiktokshop drpd ...  \n",
       "4     tiktok shop ditutup gak bikin orang berbondong...  \n",
       "...                                                 ...  \n",
       "2557                 tiktok shop ada lagi anjayã°å¸ëœâ­  \n",
       "2558  tiktokshop balik takut khilaf nanti belanja ba...  \n",
       "2559  @berlianidris lha itu tiktok shop live gitu ka...  \n",
       "2560     tanyarl info jadi buzzer tiktok shop dong gais  \n",
       "2561  tiktok shop baru muncul 2 hari udah kalapnya g...  \n",
       "\n",
       "[2562 rows x 3 columns]"
      ]
     },
     "execution_count": 8,
     "metadata": {},
     "output_type": "execute_result"
    }
   ],
   "source": [
    "#Case Folding\n",
    "df['CaseFolding'] = df['Tweet'].str.lower()\n",
    "df"
   ]
  },
  {
   "cell_type": "markdown",
   "id": "410efbc4-03fa-4bb2-ba08-60fa44884b13",
   "metadata": {},
   "source": [
    "### Cleaning"
   ]
  },
  {
   "cell_type": "code",
   "execution_count": 9,
   "id": "159b1f75-7578-4362-b340-363d25e979aa",
   "metadata": {},
   "outputs": [
    {
     "data": {
      "text/html": [
       "<div>\n",
       "<style scoped>\n",
       "    .dataframe tbody tr th:only-of-type {\n",
       "        vertical-align: middle;\n",
       "    }\n",
       "\n",
       "    .dataframe tbody tr th {\n",
       "        vertical-align: top;\n",
       "    }\n",
       "\n",
       "    .dataframe thead th {\n",
       "        text-align: right;\n",
       "    }\n",
       "</style>\n",
       "<table border=\"1\" class=\"dataframe\">\n",
       "  <thead>\n",
       "    <tr style=\"text-align: right;\">\n",
       "      <th></th>\n",
       "      <th>Tweet</th>\n",
       "      <th>cleaned</th>\n",
       "    </tr>\n",
       "  </thead>\n",
       "  <tbody>\n",
       "    <tr>\n",
       "      <th>0</th>\n",
       "      <td>tolong tiktokshop jangan ditutup dulu sampe ak...</td>\n",
       "      <td>tolong tiktok shop jangan ditutup dulu sampe a...</td>\n",
       "    </tr>\n",
       "    <tr>\n",
       "      <th>1</th>\n",
       "      <td>kalau tiktok shop bener2 ditutup, tiktok ads a...</td>\n",
       "      <td>kalau tiktok shop bener2 ditutup tiktok ads ak...</td>\n",
       "    </tr>\n",
       "    <tr>\n",
       "      <th>2</th>\n",
       "      <td>Anj lahh tiktok shop mau ditutup mana itu rese...</td>\n",
       "      <td>anj lahh tiktok shop mau ditutup mana itu rese...</td>\n",
       "    </tr>\n",
       "    <tr>\n",
       "      <th>3</th>\n",
       "      <td>sbg yg sering beli barang via tiktokshop drpd ...</td>\n",
       "      <td>sbg yg sering beli barang via tiktok shop drpd...</td>\n",
       "    </tr>\n",
       "    <tr>\n",
       "      <th>4</th>\n",
       "      <td>TikTok Shop ditutup gak bikin orang berbondong...</td>\n",
       "      <td>tiktok shop ditutup gak bikin orang berbondong...</td>\n",
       "    </tr>\n",
       "    <tr>\n",
       "      <th>...</th>\n",
       "      <td>...</td>\n",
       "      <td>...</td>\n",
       "    </tr>\n",
       "    <tr>\n",
       "      <th>2557</th>\n",
       "      <td>tiktok shop ada lagi anjayÃ°Å¸ËœÂ­</td>\n",
       "      <td>tiktok shop ada lagi anjay</td>\n",
       "    </tr>\n",
       "    <tr>\n",
       "      <th>2558</th>\n",
       "      <td>Tiktokshop balik takut khilaf nanti belanja ba...</td>\n",
       "      <td>tiktok shop balik takut khilaf nanti belanja b...</td>\n",
       "    </tr>\n",
       "    <tr>\n",
       "      <th>2559</th>\n",
       "      <td>@berlianidris Lha itu Tiktok Shop Live gitu ka...</td>\n",
       "      <td>lha itu tiktok shop live gitu kalo mau jualan ...</td>\n",
       "    </tr>\n",
       "    <tr>\n",
       "      <th>2560</th>\n",
       "      <td>Tanyarl info jadi buzzer tiktok shop dong gais</td>\n",
       "      <td>tanyarl info jadi buzzer tiktok shop dong gais</td>\n",
       "    </tr>\n",
       "    <tr>\n",
       "      <th>2561</th>\n",
       "      <td>Tiktok shop baru muncul 2 hari udah kalapnya g...</td>\n",
       "      <td>tiktok shop baru muncul 2 hari udah kalapnya g...</td>\n",
       "    </tr>\n",
       "  </tbody>\n",
       "</table>\n",
       "<p>2562 rows × 2 columns</p>\n",
       "</div>"
      ],
      "text/plain": [
       "                                                  Tweet  \\\n",
       "0     tolong tiktokshop jangan ditutup dulu sampe ak...   \n",
       "1     kalau tiktok shop bener2 ditutup, tiktok ads a...   \n",
       "2     Anj lahh tiktok shop mau ditutup mana itu rese...   \n",
       "3     sbg yg sering beli barang via tiktokshop drpd ...   \n",
       "4     TikTok Shop ditutup gak bikin orang berbondong...   \n",
       "...                                                 ...   \n",
       "2557                 tiktok shop ada lagi anjayÃ°Å¸ËœÂ­   \n",
       "2558  Tiktokshop balik takut khilaf nanti belanja ba...   \n",
       "2559  @berlianidris Lha itu Tiktok Shop Live gitu ka...   \n",
       "2560     Tanyarl info jadi buzzer tiktok shop dong gais   \n",
       "2561  Tiktok shop baru muncul 2 hari udah kalapnya g...   \n",
       "\n",
       "                                                cleaned  \n",
       "0     tolong tiktok shop jangan ditutup dulu sampe a...  \n",
       "1     kalau tiktok shop bener2 ditutup tiktok ads ak...  \n",
       "2     anj lahh tiktok shop mau ditutup mana itu rese...  \n",
       "3     sbg yg sering beli barang via tiktok shop drpd...  \n",
       "4     tiktok shop ditutup gak bikin orang berbondong...  \n",
       "...                                                 ...  \n",
       "2557                         tiktok shop ada lagi anjay  \n",
       "2558  tiktok shop balik takut khilaf nanti belanja b...  \n",
       "2559  lha itu tiktok shop live gitu kalo mau jualan ...  \n",
       "2560     tanyarl info jadi buzzer tiktok shop dong gais  \n",
       "2561  tiktok shop baru muncul 2 hari udah kalapnya g...  \n",
       "\n",
       "[2562 rows x 2 columns]"
      ]
     },
     "execution_count": 9,
     "metadata": {},
     "output_type": "execute_result"
    }
   ],
   "source": [
    "def remove_tweet_special(text):\n",
    "       \n",
    "    #menghapus username twitter\n",
    "    text = re.sub('@[^\\s]+','',text)\n",
    "    # remove mention, link, hashtag\n",
    "    text = ' '.join(re.sub(\"([@#][A-Za-z0-9]+)|(\\w+:\\/\\/\\S+)\",\" \", text).split())\n",
    "    # Memperbaiki pemisahan kata yang salah menggunakan regex\n",
    "    text = re.sub(r'([a-zA-Z])\\-([a-zA-Z])', r'\\1 \\2', text)\n",
    "    # remove tab, new line, ans back slice\n",
    "    text = text.replace('\\\\t',\" \").replace('\\\\n',\" \").replace('\\\\u',\" \").replace('\\\\',\"\")\n",
    "    # remove non ASCII (emoticon, chinese word, .etc)\n",
    "    text = text.encode('ascii', 'replace').decode('ascii')\n",
    "    #remove punctuation\n",
    "    text = text.translate(str.maketrans(\"\",\"\",string.punctuation))\n",
    "    # remove white space\n",
    "    text = text.strip()\n",
    "    #remove multiple white space\n",
    "    text = re.sub('\\s+',' ',text)\n",
    "    # Mengganti \"tiktokshop\" menjadi \"tiktok shop\"\n",
    "    text = re.sub(r'tiktokshop', 'tiktok shop', text, flags=re.IGNORECASE)\n",
    "     # remove incomplete URL\n",
    "    return text.replace(\"http://\", \" \").replace(\"https://\", \" \")\n",
    "\n",
    "df['cleaned'] = df['CaseFolding'].apply(remove_tweet_special)\n",
    "df_cleaned = df[[\"Tweet\",\"cleaned\"]]\n",
    "df_cleaned"
   ]
  },
  {
   "cell_type": "markdown",
   "id": "6cde90ff-15ab-4cc4-a63c-883f9beb67ff",
   "metadata": {},
   "source": [
    "### Tokenizing"
   ]
  },
  {
   "cell_type": "code",
   "execution_count": 10,
   "id": "22a8afc0-d05e-4763-8be8-5733c226b711",
   "metadata": {},
   "outputs": [
    {
     "data": {
      "text/html": [
       "<div>\n",
       "<style scoped>\n",
       "    .dataframe tbody tr th:only-of-type {\n",
       "        vertical-align: middle;\n",
       "    }\n",
       "\n",
       "    .dataframe tbody tr th {\n",
       "        vertical-align: top;\n",
       "    }\n",
       "\n",
       "    .dataframe thead th {\n",
       "        text-align: right;\n",
       "    }\n",
       "</style>\n",
       "<table border=\"1\" class=\"dataframe\">\n",
       "  <thead>\n",
       "    <tr style=\"text-align: right;\">\n",
       "      <th></th>\n",
       "      <th>Tweet</th>\n",
       "      <th>Tokenizing</th>\n",
       "    </tr>\n",
       "  </thead>\n",
       "  <tbody>\n",
       "    <tr>\n",
       "      <th>0</th>\n",
       "      <td>tolong tiktokshop jangan ditutup dulu sampe ak...</td>\n",
       "      <td>[tolong, tiktok, shop, jangan, ditutup, dulu, ...</td>\n",
       "    </tr>\n",
       "    <tr>\n",
       "      <th>1</th>\n",
       "      <td>kalau tiktok shop bener2 ditutup, tiktok ads a...</td>\n",
       "      <td>[kalau, tiktok, shop, bener2, ditutup, tiktok,...</td>\n",
       "    </tr>\n",
       "    <tr>\n",
       "      <th>2</th>\n",
       "      <td>Anj lahh tiktok shop mau ditutup mana itu rese...</td>\n",
       "      <td>[anj, lahh, tiktok, shop, mau, ditutup, mana, ...</td>\n",
       "    </tr>\n",
       "    <tr>\n",
       "      <th>3</th>\n",
       "      <td>sbg yg sering beli barang via tiktokshop drpd ...</td>\n",
       "      <td>[sbg, yg, sering, beli, barang, via, tiktok, s...</td>\n",
       "    </tr>\n",
       "    <tr>\n",
       "      <th>4</th>\n",
       "      <td>TikTok Shop ditutup gak bikin orang berbondong...</td>\n",
       "      <td>[tiktok, shop, ditutup, gak, bikin, orang, ber...</td>\n",
       "    </tr>\n",
       "    <tr>\n",
       "      <th>...</th>\n",
       "      <td>...</td>\n",
       "      <td>...</td>\n",
       "    </tr>\n",
       "    <tr>\n",
       "      <th>2557</th>\n",
       "      <td>tiktok shop ada lagi anjayÃ°Å¸ËœÂ­</td>\n",
       "      <td>[tiktok, shop, ada, lagi, anjay]</td>\n",
       "    </tr>\n",
       "    <tr>\n",
       "      <th>2558</th>\n",
       "      <td>Tiktokshop balik takut khilaf nanti belanja ba...</td>\n",
       "      <td>[tiktok, shop, balik, takut, khilaf, nanti, be...</td>\n",
       "    </tr>\n",
       "    <tr>\n",
       "      <th>2559</th>\n",
       "      <td>@berlianidris Lha itu Tiktok Shop Live gitu ka...</td>\n",
       "      <td>[lha, itu, tiktok, shop, live, gitu, kalo, mau...</td>\n",
       "    </tr>\n",
       "    <tr>\n",
       "      <th>2560</th>\n",
       "      <td>Tanyarl info jadi buzzer tiktok shop dong gais</td>\n",
       "      <td>[tanyarl, info, jadi, buzzer, tiktok, shop, do...</td>\n",
       "    </tr>\n",
       "    <tr>\n",
       "      <th>2561</th>\n",
       "      <td>Tiktok shop baru muncul 2 hari udah kalapnya g...</td>\n",
       "      <td>[tiktok, shop, baru, muncul, 2, hari, udah, ka...</td>\n",
       "    </tr>\n",
       "  </tbody>\n",
       "</table>\n",
       "<p>2562 rows × 2 columns</p>\n",
       "</div>"
      ],
      "text/plain": [
       "                                                  Tweet  \\\n",
       "0     tolong tiktokshop jangan ditutup dulu sampe ak...   \n",
       "1     kalau tiktok shop bener2 ditutup, tiktok ads a...   \n",
       "2     Anj lahh tiktok shop mau ditutup mana itu rese...   \n",
       "3     sbg yg sering beli barang via tiktokshop drpd ...   \n",
       "4     TikTok Shop ditutup gak bikin orang berbondong...   \n",
       "...                                                 ...   \n",
       "2557                 tiktok shop ada lagi anjayÃ°Å¸ËœÂ­   \n",
       "2558  Tiktokshop balik takut khilaf nanti belanja ba...   \n",
       "2559  @berlianidris Lha itu Tiktok Shop Live gitu ka...   \n",
       "2560     Tanyarl info jadi buzzer tiktok shop dong gais   \n",
       "2561  Tiktok shop baru muncul 2 hari udah kalapnya g...   \n",
       "\n",
       "                                             Tokenizing  \n",
       "0     [tolong, tiktok, shop, jangan, ditutup, dulu, ...  \n",
       "1     [kalau, tiktok, shop, bener2, ditutup, tiktok,...  \n",
       "2     [anj, lahh, tiktok, shop, mau, ditutup, mana, ...  \n",
       "3     [sbg, yg, sering, beli, barang, via, tiktok, s...  \n",
       "4     [tiktok, shop, ditutup, gak, bikin, orang, ber...  \n",
       "...                                                 ...  \n",
       "2557                   [tiktok, shop, ada, lagi, anjay]  \n",
       "2558  [tiktok, shop, balik, takut, khilaf, nanti, be...  \n",
       "2559  [lha, itu, tiktok, shop, live, gitu, kalo, mau...  \n",
       "2560  [tanyarl, info, jadi, buzzer, tiktok, shop, do...  \n",
       "2561  [tiktok, shop, baru, muncul, 2, hari, udah, ka...  \n",
       "\n",
       "[2562 rows x 2 columns]"
      ]
     },
     "execution_count": 10,
     "metadata": {},
     "output_type": "execute_result"
    }
   ],
   "source": [
    "def tokenizingText(tweet):\n",
    "  tweet = word_tokenize(tweet)\n",
    "  return tweet\n",
    "df['Tokenizing']= df['cleaned'].apply(tokenizingText)\n",
    "df_tokenized = df[[\"Tweet\",\"Tokenizing\"]]\n",
    "df_tokenized"
   ]
  },
  {
   "cell_type": "markdown",
   "id": "c6937e42-79db-414f-8d69-97b887af9c3a",
   "metadata": {},
   "source": [
    "### Normalization"
   ]
  },
  {
   "cell_type": "code",
   "execution_count": 11,
   "id": "704e7d1c-0a30-457e-a5a0-d83f6d60ef54",
   "metadata": {},
   "outputs": [],
   "source": [
    "def convertToSlangword(ulasan):\n",
    "    kamusSlang = eval(open(\"slangwords.txt\").read())\n",
    "    pattern = re.compile(r'\\b( ' + '|'.join (kamusSlang.keys())+r')\\b')\n",
    "    content = []\n",
    "    for kata in ulasan:\n",
    "        filterSlang = pattern.sub(lambda x: kamusSlang[x.group()],kata)\n",
    "        content.append(filterSlang.lower())\n",
    "    ulasan = content\n",
    "    return ulasan\n",
    "    \n",
    "\n",
    "normalized_word = pd.read_csv(\"normalisasi.csv\")\n",
    "\n",
    "normalized_word_dict = {}\n",
    "\n",
    "for index, row in normalized_word.iterrows():\n",
    "    if row[0] not in normalized_word_dict:\n",
    "        normalized_word_dict[row[0]] = row[1] \n",
    "\n",
    "def normalized_term(document):\n",
    "    return [normalized_word_dict[term] if term in normalized_word_dict else term for term in document]\n",
    "\n",
    "\n",
    "df['Formalisasi'] = df['Tokenizing'].apply(convertToSlangword)\n",
    "df['Formalisasi'] = df['Formalisasi'].apply(normalized_term)"
   ]
  },
  {
   "cell_type": "code",
   "execution_count": 12,
   "id": "a5b61a6d-0874-453c-bf04-7eaa0799ca79",
   "metadata": {},
   "outputs": [
    {
     "data": {
      "text/html": [
       "<div>\n",
       "<style scoped>\n",
       "    .dataframe tbody tr th:only-of-type {\n",
       "        vertical-align: middle;\n",
       "    }\n",
       "\n",
       "    .dataframe tbody tr th {\n",
       "        vertical-align: top;\n",
       "    }\n",
       "\n",
       "    .dataframe thead th {\n",
       "        text-align: right;\n",
       "    }\n",
       "</style>\n",
       "<table border=\"1\" class=\"dataframe\">\n",
       "  <thead>\n",
       "    <tr style=\"text-align: right;\">\n",
       "      <th></th>\n",
       "      <th>Tweet</th>\n",
       "      <th>Formalisasi</th>\n",
       "    </tr>\n",
       "  </thead>\n",
       "  <tbody>\n",
       "    <tr>\n",
       "      <th>0</th>\n",
       "      <td>tolong tiktokshop jangan ditutup dulu sampe ak...</td>\n",
       "      <td>[tolong, tiktok, shop, jangan, ditutup, dulu, ...</td>\n",
       "    </tr>\n",
       "    <tr>\n",
       "      <th>1</th>\n",
       "      <td>kalau tiktok shop bener2 ditutup, tiktok ads a...</td>\n",
       "      <td>[kalau, tiktok, shop, bener2, ditutup, tiktok,...</td>\n",
       "    </tr>\n",
       "    <tr>\n",
       "      <th>2</th>\n",
       "      <td>Anj lahh tiktok shop mau ditutup mana itu rese...</td>\n",
       "      <td>[anjing, lahh, tiktok, shop, mau, ditutup, man...</td>\n",
       "    </tr>\n",
       "    <tr>\n",
       "      <th>3</th>\n",
       "      <td>sbg yg sering beli barang via tiktokshop drpd ...</td>\n",
       "      <td>[sebagai, yang, sering, beli, barang, melalui,...</td>\n",
       "    </tr>\n",
       "    <tr>\n",
       "      <th>4</th>\n",
       "      <td>TikTok Shop ditutup gak bikin orang berbondong...</td>\n",
       "      <td>[tiktok, shop, ditutup, tidak, bikin, orang, b...</td>\n",
       "    </tr>\n",
       "    <tr>\n",
       "      <th>...</th>\n",
       "      <td>...</td>\n",
       "      <td>...</td>\n",
       "    </tr>\n",
       "    <tr>\n",
       "      <th>2557</th>\n",
       "      <td>tiktok shop ada lagi anjayÃ°Å¸ËœÂ­</td>\n",
       "      <td>[tiktok, shop, ada, lagi, anjay]</td>\n",
       "    </tr>\n",
       "    <tr>\n",
       "      <th>2558</th>\n",
       "      <td>Tiktokshop balik takut khilaf nanti belanja ba...</td>\n",
       "      <td>[tiktok, shop, balik, takut, khilaf, nanti, be...</td>\n",
       "    </tr>\n",
       "    <tr>\n",
       "      <th>2559</th>\n",
       "      <td>@berlianidris Lha itu Tiktok Shop Live gitu ka...</td>\n",
       "      <td>[lha, itu, tiktok, shop, live, begitu, kalau, ...</td>\n",
       "    </tr>\n",
       "    <tr>\n",
       "      <th>2560</th>\n",
       "      <td>Tanyarl info jadi buzzer tiktok shop dong gais</td>\n",
       "      <td>[tanyarl, informasi, jadi, buzzer, tiktok, sho...</td>\n",
       "    </tr>\n",
       "    <tr>\n",
       "      <th>2561</th>\n",
       "      <td>Tiktok shop baru muncul 2 hari udah kalapnya g...</td>\n",
       "      <td>[tiktok, shop, baru, muncul, 2, hari, sudah, k...</td>\n",
       "    </tr>\n",
       "  </tbody>\n",
       "</table>\n",
       "<p>2562 rows × 2 columns</p>\n",
       "</div>"
      ],
      "text/plain": [
       "                                                  Tweet  \\\n",
       "0     tolong tiktokshop jangan ditutup dulu sampe ak...   \n",
       "1     kalau tiktok shop bener2 ditutup, tiktok ads a...   \n",
       "2     Anj lahh tiktok shop mau ditutup mana itu rese...   \n",
       "3     sbg yg sering beli barang via tiktokshop drpd ...   \n",
       "4     TikTok Shop ditutup gak bikin orang berbondong...   \n",
       "...                                                 ...   \n",
       "2557                 tiktok shop ada lagi anjayÃ°Å¸ËœÂ­   \n",
       "2558  Tiktokshop balik takut khilaf nanti belanja ba...   \n",
       "2559  @berlianidris Lha itu Tiktok Shop Live gitu ka...   \n",
       "2560     Tanyarl info jadi buzzer tiktok shop dong gais   \n",
       "2561  Tiktok shop baru muncul 2 hari udah kalapnya g...   \n",
       "\n",
       "                                            Formalisasi  \n",
       "0     [tolong, tiktok, shop, jangan, ditutup, dulu, ...  \n",
       "1     [kalau, tiktok, shop, bener2, ditutup, tiktok,...  \n",
       "2     [anjing, lahh, tiktok, shop, mau, ditutup, man...  \n",
       "3     [sebagai, yang, sering, beli, barang, melalui,...  \n",
       "4     [tiktok, shop, ditutup, tidak, bikin, orang, b...  \n",
       "...                                                 ...  \n",
       "2557                   [tiktok, shop, ada, lagi, anjay]  \n",
       "2558  [tiktok, shop, balik, takut, khilaf, nanti, be...  \n",
       "2559  [lha, itu, tiktok, shop, live, begitu, kalau, ...  \n",
       "2560  [tanyarl, informasi, jadi, buzzer, tiktok, sho...  \n",
       "2561  [tiktok, shop, baru, muncul, 2, hari, sudah, k...  \n",
       "\n",
       "[2562 rows x 2 columns]"
      ]
     },
     "execution_count": 12,
     "metadata": {},
     "output_type": "execute_result"
    }
   ],
   "source": [
    "df_normalized = df[[\"Tweet\",\"Formalisasi\"]]\n",
    "df_normalized"
   ]
  },
  {
   "cell_type": "markdown",
   "id": "c3393b8c-05cf-4fa4-aa02-f0a9dcb0c15f",
   "metadata": {
    "jp-MarkdownHeadingCollapsed": true
   },
   "source": [
    "### Stopword Removal"
   ]
  },
  {
   "cell_type": "code",
   "execution_count": 120,
   "id": "e4bd35c1-57e9-4a2f-a139-8beec58d224c",
   "metadata": {},
   "outputs": [],
   "source": [
    "daftar_stopword = stopwords.words('indonesian')\n",
    "\n",
    "def stopwordText(words):\n",
    " return [word for word in words if word not in daftar_stopword]\n",
    "\n",
    "df['Stopword Removal'] = df['Formalisasi'].apply(stopwordText)"
   ]
  },
  {
   "cell_type": "code",
   "execution_count": 121,
   "id": "5a69b4ad-6f1f-4c4b-8bfa-67a8ebe54573",
   "metadata": {},
   "outputs": [
    {
     "data": {
      "text/html": [
       "<div>\n",
       "<style scoped>\n",
       "    .dataframe tbody tr th:only-of-type {\n",
       "        vertical-align: middle;\n",
       "    }\n",
       "\n",
       "    .dataframe tbody tr th {\n",
       "        vertical-align: top;\n",
       "    }\n",
       "\n",
       "    .dataframe thead th {\n",
       "        text-align: right;\n",
       "    }\n",
       "</style>\n",
       "<table border=\"1\" class=\"dataframe\">\n",
       "  <thead>\n",
       "    <tr style=\"text-align: right;\">\n",
       "      <th></th>\n",
       "      <th>Tweet</th>\n",
       "      <th>Stopword Removal</th>\n",
       "    </tr>\n",
       "  </thead>\n",
       "  <tbody>\n",
       "    <tr>\n",
       "      <th>0</th>\n",
       "      <td>tolong tiktokshop jangan ditutup dulu sampe ak...</td>\n",
       "      <td>[tolong, tiktok, shop, ditutup, beli, wishlist]</td>\n",
       "    </tr>\n",
       "    <tr>\n",
       "      <th>1</th>\n",
       "      <td>kalau tiktok shop bener2 ditutup, tiktok ads a...</td>\n",
       "      <td>[tiktok, shop, ditutup, tiktok, iklan, gurih, ...</td>\n",
       "    </tr>\n",
       "    <tr>\n",
       "      <th>2</th>\n",
       "      <td>Anj lahh tiktok shop mau ditutup mana itu rese...</td>\n",
       "      <td>[anjing, lahh, tiktok, shop, ditutup, research...</td>\n",
       "    </tr>\n",
       "    <tr>\n",
       "      <th>3</th>\n",
       "      <td>sbg yg sering beli barang via tiktokshop drpd ...</td>\n",
       "      <td>[beli, barang, tiktok, shop, toko, oren, dan l...</td>\n",
       "    </tr>\n",
       "    <tr>\n",
       "      <th>4</th>\n",
       "      <td>TikTok Shop ditutup gak bikin orang berbondong...</td>\n",
       "      <td>[tiktok, shop, ditutup, bikin, orang, berbondo...</td>\n",
       "    </tr>\n",
       "    <tr>\n",
       "      <th>...</th>\n",
       "      <td>...</td>\n",
       "      <td>...</td>\n",
       "    </tr>\n",
       "    <tr>\n",
       "      <th>2557</th>\n",
       "      <td>tiktok shop ada lagi anjayÃ°Å¸ËœÂ­</td>\n",
       "      <td>[tiktok, shop, anjay]</td>\n",
       "    </tr>\n",
       "    <tr>\n",
       "      <th>2558</th>\n",
       "      <td>Tiktokshop balik takut khilaf nanti belanja ba...</td>\n",
       "      <td>[tiktok, shop, takut, khilaf, belanja, baju, a...</td>\n",
       "    </tr>\n",
       "    <tr>\n",
       "      <th>2559</th>\n",
       "      <td>@berlianidris Lha itu Tiktok Shop Live gitu ka...</td>\n",
       "      <td>[lha, tiktok, shop, live, jualan, bang, kerja,...</td>\n",
       "    </tr>\n",
       "    <tr>\n",
       "      <th>2560</th>\n",
       "      <td>Tanyarl info jadi buzzer tiktok shop dong gais</td>\n",
       "      <td>[tanyarl, informasi, buzzer, tiktok, shop, gais]</td>\n",
       "    </tr>\n",
       "    <tr>\n",
       "      <th>2561</th>\n",
       "      <td>Tiktok shop baru muncul 2 hari udah kalapnya g...</td>\n",
       "      <td>[tiktok, shop, muncul, kalapnya, mengerti]</td>\n",
       "    </tr>\n",
       "  </tbody>\n",
       "</table>\n",
       "<p>2562 rows × 2 columns</p>\n",
       "</div>"
      ],
      "text/plain": [
       "                                                  Tweet  \\\n",
       "0     tolong tiktokshop jangan ditutup dulu sampe ak...   \n",
       "1     kalau tiktok shop bener2 ditutup, tiktok ads a...   \n",
       "2     Anj lahh tiktok shop mau ditutup mana itu rese...   \n",
       "3     sbg yg sering beli barang via tiktokshop drpd ...   \n",
       "4     TikTok Shop ditutup gak bikin orang berbondong...   \n",
       "...                                                 ...   \n",
       "2557                 tiktok shop ada lagi anjayÃ°Å¸ËœÂ­   \n",
       "2558  Tiktokshop balik takut khilaf nanti belanja ba...   \n",
       "2559  @berlianidris Lha itu Tiktok Shop Live gitu ka...   \n",
       "2560     Tanyarl info jadi buzzer tiktok shop dong gais   \n",
       "2561  Tiktok shop baru muncul 2 hari udah kalapnya g...   \n",
       "\n",
       "                                       Stopword Removal  \n",
       "0       [tolong, tiktok, shop, ditutup, beli, wishlist]  \n",
       "1     [tiktok, shop, ditutup, tiktok, iklan, gurih, ...  \n",
       "2     [anjing, lahh, tiktok, shop, ditutup, research...  \n",
       "3     [beli, barang, tiktok, shop, toko, oren, dan l...  \n",
       "4     [tiktok, shop, ditutup, bikin, orang, berbondo...  \n",
       "...                                                 ...  \n",
       "2557                              [tiktok, shop, anjay]  \n",
       "2558  [tiktok, shop, takut, khilaf, belanja, baju, a...  \n",
       "2559  [lha, tiktok, shop, live, jualan, bang, kerja,...  \n",
       "2560   [tanyarl, informasi, buzzer, tiktok, shop, gais]  \n",
       "2561         [tiktok, shop, muncul, kalapnya, mengerti]  \n",
       "\n",
       "[2562 rows x 2 columns]"
      ]
     },
     "execution_count": 121,
     "metadata": {},
     "output_type": "execute_result"
    }
   ],
   "source": [
    "df_stopword = df[[\"Tweet\",\"Stopword Removal\"]]\n",
    "df_stopword"
   ]
  },
  {
   "cell_type": "markdown",
   "id": "f4473cda-3221-440e-83f6-7f16dac3722c",
   "metadata": {},
   "source": [
    "### Stemming"
   ]
  },
  {
   "cell_type": "code",
   "execution_count": 13,
   "id": "27bcdbef-c851-4df2-8f99-873c8f6e1579",
   "metadata": {},
   "outputs": [
    {
     "data": {
      "application/vnd.jupyter.widget-view+json": {
       "model_id": "9ed043a1ee264bfda4632105c00400a5",
       "version_major": 2,
       "version_minor": 0
      },
      "text/plain": [
       "Pandas Apply:   0%|          | 0/2562 [00:00<?, ?it/s]"
      ]
     },
     "metadata": {},
     "output_type": "display_data"
    }
   ],
   "source": [
    "factory = StemmerFactory()\n",
    "stemmer = factory.create_stemmer()\n",
    "\n",
    "def stemmed_wrapper(term):\n",
    "    return stemmer.stem(term)\n",
    "\n",
    "term_dict = {}\n",
    "\n",
    "for document in df['Formalisasi']:\n",
    "    for term in document:\n",
    "        if term not in term_dict:\n",
    "            term_dict[term] = ' '\n",
    "for term in term_dict:\n",
    "    term_dict[term] = stemmed_wrapper(term)\n",
    "    \n",
    "def stemmingText(document):\n",
    "    return [term_dict[term] for term in document]\n",
    "\n",
    "df['Stemming'] = df['Formalisasi'].swifter.apply(stemmingText)"
   ]
  },
  {
   "cell_type": "code",
   "execution_count": 14,
   "id": "275c8ed1-5de0-4c94-b4d6-7ab85f8df842",
   "metadata": {},
   "outputs": [
    {
     "data": {
      "text/html": [
       "<div>\n",
       "<style scoped>\n",
       "    .dataframe tbody tr th:only-of-type {\n",
       "        vertical-align: middle;\n",
       "    }\n",
       "\n",
       "    .dataframe tbody tr th {\n",
       "        vertical-align: top;\n",
       "    }\n",
       "\n",
       "    .dataframe thead th {\n",
       "        text-align: right;\n",
       "    }\n",
       "</style>\n",
       "<table border=\"1\" class=\"dataframe\">\n",
       "  <thead>\n",
       "    <tr style=\"text-align: right;\">\n",
       "      <th></th>\n",
       "      <th>Tweet</th>\n",
       "      <th>Stemming</th>\n",
       "    </tr>\n",
       "  </thead>\n",
       "  <tbody>\n",
       "    <tr>\n",
       "      <th>0</th>\n",
       "      <td>tolong tiktokshop jangan ditutup dulu sampe ak...</td>\n",
       "      <td>[tolong, tiktok, shop, jangan, tutup, dulu, sa...</td>\n",
       "    </tr>\n",
       "    <tr>\n",
       "      <th>1</th>\n",
       "      <td>kalau tiktok shop bener2 ditutup, tiktok ads a...</td>\n",
       "      <td>[kalau, tiktok, shop, bener2, tutup, tiktok, i...</td>\n",
       "    </tr>\n",
       "    <tr>\n",
       "      <th>2</th>\n",
       "      <td>Anj lahh tiktok shop mau ditutup mana itu rese...</td>\n",
       "      <td>[anjing, lahh, tiktok, shop, mau, tutup, mana,...</td>\n",
       "    </tr>\n",
       "    <tr>\n",
       "      <th>3</th>\n",
       "      <td>sbg yg sering beli barang via tiktokshop drpd ...</td>\n",
       "      <td>[bagai, yang, sering, beli, barang, lalu, tikt...</td>\n",
       "    </tr>\n",
       "    <tr>\n",
       "      <th>4</th>\n",
       "      <td>TikTok Shop ditutup gak bikin orang berbondong...</td>\n",
       "      <td>[tiktok, shop, tutup, tidak, bikin, orang, bon...</td>\n",
       "    </tr>\n",
       "  </tbody>\n",
       "</table>\n",
       "</div>"
      ],
      "text/plain": [
       "                                               Tweet  \\\n",
       "0  tolong tiktokshop jangan ditutup dulu sampe ak...   \n",
       "1  kalau tiktok shop bener2 ditutup, tiktok ads a...   \n",
       "2  Anj lahh tiktok shop mau ditutup mana itu rese...   \n",
       "3  sbg yg sering beli barang via tiktokshop drpd ...   \n",
       "4  TikTok Shop ditutup gak bikin orang berbondong...   \n",
       "\n",
       "                                            Stemming  \n",
       "0  [tolong, tiktok, shop, jangan, tutup, dulu, sa...  \n",
       "1  [kalau, tiktok, shop, bener2, tutup, tiktok, i...  \n",
       "2  [anjing, lahh, tiktok, shop, mau, tutup, mana,...  \n",
       "3  [bagai, yang, sering, beli, barang, lalu, tikt...  \n",
       "4  [tiktok, shop, tutup, tidak, bikin, orang, bon...  "
      ]
     },
     "execution_count": 14,
     "metadata": {},
     "output_type": "execute_result"
    }
   ],
   "source": [
    "df_stemming = df[[\"Tweet\",\"Stemming\"]]\n",
    "df_stemming.head()"
   ]
  },
  {
   "cell_type": "markdown",
   "id": "f6c766d9-4bc8-47f5-b48d-e73e3a914e43",
   "metadata": {},
   "source": [
    "## Hasil Preprocessing"
   ]
  },
  {
   "cell_type": "code",
   "execution_count": 15,
   "id": "5acd992f-7345-44be-899f-761d3466dcb5",
   "metadata": {},
   "outputs": [
    {
     "data": {
      "text/html": [
       "<div>\n",
       "<style scoped>\n",
       "    .dataframe tbody tr th:only-of-type {\n",
       "        vertical-align: middle;\n",
       "    }\n",
       "\n",
       "    .dataframe tbody tr th {\n",
       "        vertical-align: top;\n",
       "    }\n",
       "\n",
       "    .dataframe thead th {\n",
       "        text-align: right;\n",
       "    }\n",
       "</style>\n",
       "<table border=\"1\" class=\"dataframe\">\n",
       "  <thead>\n",
       "    <tr style=\"text-align: right;\">\n",
       "      <th></th>\n",
       "      <th>Tweet</th>\n",
       "      <th>preprocessed</th>\n",
       "      <th>Sentimen</th>\n",
       "    </tr>\n",
       "  </thead>\n",
       "  <tbody>\n",
       "    <tr>\n",
       "      <th>0</th>\n",
       "      <td>tolong tiktokshop jangan ditutup dulu sampe ak...</td>\n",
       "      <td>tolong tiktok shop jangan ditutup dulu sampai ...</td>\n",
       "      <td>Netral</td>\n",
       "    </tr>\n",
       "    <tr>\n",
       "      <th>1</th>\n",
       "      <td>kalau tiktok shop bener2 ditutup, tiktok ads a...</td>\n",
       "      <td>kalau tiktok shop bener2 ditutup tiktok iklan ...</td>\n",
       "      <td>Positif</td>\n",
       "    </tr>\n",
       "    <tr>\n",
       "      <th>2</th>\n",
       "      <td>Anj lahh tiktok shop mau ditutup mana itu rese...</td>\n",
       "      <td>anjing lahh tiktok shop mau ditutup mana itu r...</td>\n",
       "      <td>Positif</td>\n",
       "    </tr>\n",
       "    <tr>\n",
       "      <th>3</th>\n",
       "      <td>sbg yg sering beli barang via tiktokshop drpd ...</td>\n",
       "      <td>sebagai yang sering beli barang melalui tiktok...</td>\n",
       "      <td>Positif</td>\n",
       "    </tr>\n",
       "    <tr>\n",
       "      <th>4</th>\n",
       "      <td>TikTok Shop ditutup gak bikin orang berbondong...</td>\n",
       "      <td>tiktok shop ditutup tidak bikin orang berbondo...</td>\n",
       "      <td>Positif</td>\n",
       "    </tr>\n",
       "  </tbody>\n",
       "</table>\n",
       "</div>"
      ],
      "text/plain": [
       "                                               Tweet  \\\n",
       "0  tolong tiktokshop jangan ditutup dulu sampe ak...   \n",
       "1  kalau tiktok shop bener2 ditutup, tiktok ads a...   \n",
       "2  Anj lahh tiktok shop mau ditutup mana itu rese...   \n",
       "3  sbg yg sering beli barang via tiktokshop drpd ...   \n",
       "4  TikTok Shop ditutup gak bikin orang berbondong...   \n",
       "\n",
       "                                        preprocessed Sentimen  \n",
       "0  tolong tiktok shop jangan ditutup dulu sampai ...   Netral  \n",
       "1  kalau tiktok shop bener2 ditutup tiktok iklan ...  Positif  \n",
       "2  anjing lahh tiktok shop mau ditutup mana itu r...  Positif  \n",
       "3  sebagai yang sering beli barang melalui tiktok...  Positif  \n",
       "4  tiktok shop ditutup tidak bikin orang berbondo...  Positif  "
      ]
     },
     "execution_count": 15,
     "metadata": {},
     "output_type": "execute_result"
    }
   ],
   "source": [
    "df['preprocessed'] = df['Formalisasi']\n",
    "df['preprocessed'] = [' '.join(words) for words in df['preprocessed']]\n",
    "df_cleaned = df[[\"Tweet\",'preprocessed',\"Sentimen\"]]\n",
    "df_cleaned.head()"
   ]
  },
  {
   "cell_type": "code",
   "execution_count": 16,
   "id": "af945171-64e3-4941-a212-e78db21bf806",
   "metadata": {},
   "outputs": [],
   "source": [
    "df_cleaned.to_csv(\"data_ttshop_cleaned_baru.csv\",index=False)\n",
    "df.to_csv(\"data_ttshop_preprocessed_baru.csv\",index=False)"
   ]
  },
  {
   "cell_type": "markdown",
   "id": "189e6daf-dec5-483b-89ea-56c0790ab69b",
   "metadata": {},
   "source": [
    "# TRAINING MODEL"
   ]
  },
  {
   "cell_type": "code",
   "execution_count": 12,
   "id": "0d2351b2-3168-4756-a99a-b46e5076e205",
   "metadata": {},
   "outputs": [
    {
     "name": "stdout",
     "output_type": "stream",
     "text": [
      "\n",
      "Jumlah Data Sentiment Positif:\n",
      "1020\n",
      "\n",
      "Jumlah Data Sentiment Negatif:\n",
      "915\n",
      "\n",
      "Jumlah Data Sentiment Netral:\n",
      "627\n"
     ]
    },
    {
     "data": {
      "image/png": "[encoded data removed]",
      "text/plain": [
       "<Figure size 640x480 with 1 Axes>"
      ]
     },
     "metadata": {},
     "output_type": "display_data"
    }
   ],
   "source": [
    "df= pd.read_csv(\"data_ttshop_cleaned_baru.csv\")\n",
    "print('\\nJumlah Data Sentiment Positif:')\n",
    "dt = df.query(\"Sentimen == 'Positif'\")\n",
    "print(len(dt))\n",
    "print('\\nJumlah Data Sentiment Negatif:')\n",
    "dt = df.query(\"Sentimen == 'Negatif'\")\n",
    "print(len(dt))\n",
    "print('\\nJumlah Data Sentiment Netral:')\n",
    "dt = df.query(\"Sentimen == 'Netral'\")\n",
    "print(len(dt))\n",
    "df['Sentimen'].value_counts().plot(kind='bar')\n",
    "plt.show()"
   ]
  },
  {
   "cell_type": "code",
   "execution_count": 13,
   "id": "561913a5-e5d5-4eb5-8edd-4fe2c4f5a462",
   "metadata": {},
   "outputs": [],
   "source": [
    "df.drop(['Tweet'], axis=1, inplace=True)"
   ]
  },
  {
   "cell_type": "code",
   "execution_count": 14,
   "id": "f1f66ba8-ddec-491b-81c1-498f9b09cd0b",
   "metadata": {},
   "outputs": [
    {
     "name": "stdout",
     "output_type": "stream",
     "text": [
      "<class 'pandas.core.frame.DataFrame'>\n",
      "RangeIndex: 2562 entries, 0 to 2561\n",
      "Data columns (total 2 columns):\n",
      " #   Column        Non-Null Count  Dtype \n",
      "---  ------        --------------  ----- \n",
      " 0   preprocessed  2562 non-null   object\n",
      " 1   Sentimen      2562 non-null   object\n",
      "dtypes: object(2)\n",
      "memory usage: 40.2+ KB\n"
     ]
    }
   ],
   "source": [
    "df.info()"
   ]
  },
  {
   "cell_type": "code",
   "execution_count": 15,
   "id": "29ce8229-a8a9-45b3-8fb7-7e4b145828f1",
   "metadata": {},
   "outputs": [],
   "source": [
    " #Membuat objek LabelEncoder\n",
    "label_encoder = LabelEncoder()\n",
    "\n",
    "# Melakukan label encoding pada kolom 'sentimen'\n",
    "df['Label'] = label_encoder.fit_transform(df['Sentimen'])\n"
   ]
  },
  {
   "cell_type": "markdown",
   "id": "2690d281-dc9b-4aa1-b5e2-75c6f36d286b",
   "metadata": {
    "jp-MarkdownHeadingCollapsed": true
   },
   "source": [
    "## Split Data & TF-IDF"
   ]
  },
  {
   "cell_type": "code",
   "execution_count": 64,
   "id": "4fbba838-8469-4d9c-9664-0437fff1a8b6",
   "metadata": {},
   "outputs": [
    {
     "name": "stdout",
     "output_type": "stream",
     "text": [
      "tolong tiktok shop jangan ditutup dulu sampai akhir tahun saya mau beli wishlist\n",
      "<Compressed Sparse Row sparse matrix of dtype 'float64'\n",
      "\twith 13 stored elements and shape (1, 5186)>\n",
      "  Coords\tValues\n",
      "  (0, 2884)\t0.2650995652997377\n",
      "  (0, 2382)\t0.22949947793710368\n",
      "  (0, 4118)\t0.23950695621882212\n",
      "  (0, 1623)\t0.6070493101120824\n",
      "  (0, 4826)\t0.05129284271193493\n",
      "  (0, 4365)\t0.051543751254828594\n",
      "  (0, 1256)\t0.1017240946393285\n",
      "  (0, 3398)\t0.37696063431548515\n",
      "  (0, 309)\t0.2033922813813716\n",
      "  (0, 4370)\t0.18706575009500162\n",
      "  (0, 4554)\t0.13733641753020662\n",
      "  (0, 215)\t0.36255315928434073\n",
      "  (0, 2694)\t0.2584121475238726\n",
      "Label\n",
      "2    823\n",
      "0    719\n",
      "1    507\n",
      "Name: count, dtype: int64\n"
     ]
    }
   ],
   "source": [
    "#data utuh\n",
    "X = df['preprocessed']\n",
    "Y = df['Label']\n",
    "\n",
    "print(X[0])\n",
    "\n",
    "X_train, X_test, y_train, y_test = model_selection.train_test_split(X, Y, test_size=0.2,random_state=42)\n",
    "\n",
    "vectorizer = TfidfVectorizer()\n",
    "X_train = vectorizer.fit_transform(X_train)\n",
    "X_test = vectorizer.transform(X_test)\n",
    "\n",
    "print(X_train[0])\n",
    "print(pd.Series(y_train).value_counts())"
   ]
  },
  {
   "cell_type": "markdown",
   "id": "d96af17b-3b00-4fe9-8801-83823269c380",
   "metadata": {},
   "source": [
    "## Split Data & TF-IDF"
   ]
  },
  {
   "cell_type": "code",
   "execution_count": 16,
   "id": "f2b4f6aa-db66-44ff-8b61-e1972e6410ad",
   "metadata": {},
   "outputs": [
    {
     "name": "stdout",
     "output_type": "stream",
     "text": [
      "tolong tiktok shop jangan ditutup dulu sampai akhir tahun saya mau beli wishlist\n",
      "(3060, 5932)\n"
     ]
    }
   ],
   "source": [
    "#data utuh\n",
    "X = df['preprocessed']\n",
    "Y = df['Label']\n",
    "\n",
    "print(X[0])\n",
    "vectorizer = TfidfVectorizer()\n",
    "X_sm = vectorizer.fit_transform(X)\n",
    "smote = SMOTE(random_state=42)\n",
    "X_sm, y_sm = smote.fit_resample(X_sm, Y)\n",
    "print(X_sm.shape)\n",
    "X_train, X_test, y_train, y_test = train_test_split(X_sm, y_sm, test_size=0.1,random_state=42)"
   ]
  },
  {
   "cell_type": "markdown",
   "id": "e918035b-ec22-4fef-9c63-d59318bce1d6",
   "metadata": {},
   "source": [
    "## DEF FUNGSI"
   ]
  },
  {
   "cell_type": "code",
   "execution_count": 9,
   "id": "60eab97d-6f06-4e39-aa5f-3d6499b4d9d1",
   "metadata": {},
   "outputs": [],
   "source": [
    "# Fungsi untuk mengubah kernel\n",
    "def create_svm_model(kernel='linear', C=1.0, gamma='scale'):\n",
    "    model = svm.SVC(kernel=kernel, C=C, gamma=gamma,probability=True)\n",
    "    return model\n",
    "\n",
    "# Fungsi untuk melatih model SVM\n",
    "def train_svm_model(X_train, y_train, kernel='linear', C=1.0, gamma='scale'):\n",
    "    model = create_svm_model(kernel, C, gamma)\n",
    "    model.fit(X_train, y_train)\n",
    "    print(f'Jml. Fitur\\t: {X_train.shape[1]}')\n",
    "    return model\n",
    "\n",
    "# Fungsi untuk evaluasi model\n",
    "def evaluate_model(model, X_test, y_test):\n",
    "    y_pred = model.predict(X_test)\n",
    "    print(classification_report(y_test, y_pred))\n",
    "    print('Precision\\t: {:.4}'.format(precision_score(y_test, y_pred, average='weighted')))\n",
    "    print('Recall\\t\\t: {:.4}'.format(recall_score(y_test, y_pred, average ='weighted')))\n",
    "    print('Accuracy\\t: {:.4}'.format(accuracy_score(y_test, y_pred)))\n",
    "    print('F1-Score\\t: {:.4}'.format(f1_score(y_test, y_pred, average='weighted')))\n",
    "    \n",
    "\n",
    "def k_fold_cross_validation(X, y, kernel='linear', C=1.0, gamma='scale'):\n",
    "    kf = KFold(n_splits=10, shuffle=True, random_state=42)\n",
    "    clf = svm.SVC(kernel=kernel, C=C, gamma=gamma) \n",
    "    y = np.ravel(y)\n",
    "    accuracies=[]\n",
    "    precisions=[]\n",
    "    recalls=[]\n",
    "    fscore=[]\n",
    "    for fold, (train_index, test_index) in enumerate(kf.split(X), start=1):\n",
    "        X_train, X_test, y_train, y_test = X[train_index], X[test_index], y[train_index], y[test_index]\n",
    "        \n",
    "        clf.fit(X_train, y_train)  # Train the model\n",
    "        y_pred = clf.predict(X_test)  # Predict on test set\n",
    "        \n",
    "        # Calculate metrics\n",
    "        accuracy = accuracy_score(y_test, y_pred)\n",
    "        precision = precision_score(y_test, y_pred, average='macro')\n",
    "        recall = recall_score(y_test, y_pred, average='macro')\n",
    "        f1 = f1_score(y_test, y_pred, average='macro')\n",
    "        accuracies.append(accuracy)  \n",
    "        precisions.append(precision) \n",
    "        recalls.append(recall) \n",
    "        fscore.append(f1) \n",
    "        print(f'# Fold {fold}:')\n",
    "        print(f'Accuracy: {accuracy:.4f}')\n",
    "        print(f'Precision: {precision:.4f}')\n",
    "        print(f'Recall: {recall:.4f}')\n",
    "        print(f'F1 Score: {f1:.4f}')\n",
    "        # Hitung dan print rata-rata akurasi\n",
    "    mean_accuracy = np.mean(accuracies)\n",
    "    mean_precision = np.mean(precisions)\n",
    "    mean_recall = np.mean(recalls)\n",
    "    mean_fscore = np.mean(fscore)\n",
    "    print(f'Mean CV Accuracy Score: {mean_accuracy:.4f}')\n",
    "    print(f'Mean CV Precision Score: {mean_precision:.4f}')\n",
    "    print(f'Mean CV Recall Score: {mean_recall:.4f}')\n",
    "    print(f'Mean CV F-1 Score: {mean_fscore:.4f}')\n",
    "    return accuracies, precisions, recalls, fscore"
   ]
  },
  {
   "cell_type": "markdown",
   "id": "00345cd9-d6b9-487a-957e-07d3d67d5f99",
   "metadata": {},
   "source": [
    "## SVM Tanpa PSO"
   ]
  },
  {
   "cell_type": "code",
   "execution_count": 17,
   "id": "874c7573-8c1d-4fdf-95d6-18b26becdaf0",
   "metadata": {},
   "outputs": [
    {
     "name": "stdout",
     "output_type": "stream",
     "text": [
      "Jml. Fitur\t: 5932\n"
     ]
    }
   ],
   "source": [
    "model_linear = train_svm_model(X_train, y_train, kernel='linear', C=1)"
   ]
  },
  {
   "cell_type": "code",
   "execution_count": 20,
   "id": "2a74af00-4b02-42c8-89db-f119d7fc3b32",
   "metadata": {},
   "outputs": [
    {
     "name": "stdout",
     "output_type": "stream",
     "text": [
      "# Fold 1:\n",
      "Accuracy: 0.7500\n",
      "Precision: 0.7443\n",
      "Recall: 0.7466\n",
      "F1 Score: 0.7434\n",
      "# Fold 2:\n",
      "Accuracy: 0.7391\n",
      "Precision: 0.7396\n",
      "Recall: 0.7407\n",
      "F1 Score: 0.7386\n",
      "# Fold 3:\n",
      "Accuracy: 0.6775\n",
      "Precision: 0.6770\n",
      "Recall: 0.6886\n",
      "F1 Score: 0.6804\n",
      "# Fold 4:\n",
      "Accuracy: 0.7065\n",
      "Precision: 0.7016\n",
      "Recall: 0.7066\n",
      "F1 Score: 0.7022\n",
      "# Fold 5:\n",
      "Accuracy: 0.7309\n",
      "Precision: 0.7295\n",
      "Recall: 0.7338\n",
      "F1 Score: 0.7307\n",
      "# Fold 6:\n",
      "Accuracy: 0.6909\n",
      "Precision: 0.6913\n",
      "Recall: 0.6957\n",
      "F1 Score: 0.6892\n",
      "# Fold 7:\n",
      "Accuracy: 0.7564\n",
      "Precision: 0.7538\n",
      "Recall: 0.7520\n",
      "F1 Score: 0.7522\n",
      "# Fold 8:\n",
      "Accuracy: 0.7455\n",
      "Precision: 0.7451\n",
      "Recall: 0.7458\n",
      "F1 Score: 0.7446\n",
      "# Fold 9:\n",
      "Accuracy: 0.7164\n",
      "Precision: 0.7113\n",
      "Recall: 0.7103\n",
      "F1 Score: 0.7082\n",
      "# Fold 10:\n",
      "Accuracy: 0.7491\n",
      "Precision: 0.7463\n",
      "Recall: 0.7511\n",
      "F1 Score: 0.7466\n",
      "Mean CV Accuracy Score: 0.7262\n",
      "Mean CV Precision Score: 0.7240\n",
      "Mean CV Recall Score: 0.7271\n",
      "Mean CV F-1 Score: 0.7236\n"
     ]
    }
   ],
   "source": [
    "accuracies, precision, recalls, fscore = k_fold_cross_validation(X_train, y_train, kernel='linear', C=1)"
   ]
  },
  {
   "cell_type": "code",
   "execution_count": 23,
   "id": "4ce56000-956c-4284-a98d-b66e479a005a",
   "metadata": {},
   "outputs": [
    {
     "name": "stdout",
     "output_type": "stream",
     "text": [
      "              precision    recall  f1-score   support\n",
      "\n",
      "           0       0.74      0.79      0.76        92\n",
      "           1       0.84      0.84      0.84       119\n",
      "           2       0.67      0.62      0.64        95\n",
      "\n",
      "    accuracy                           0.76       306\n",
      "   macro avg       0.75      0.75      0.75       306\n",
      "weighted avg       0.76      0.76      0.76       306\n",
      "\n",
      "Precision\t: 0.7566\n",
      "Recall\t\t: 0.7582\n",
      "Accuracy\t: 0.7582\n",
      "F1-Score\t: 0.7568\n"
     ]
    }
   ],
   "source": [
    "# Evaluasi model akhir\n",
    "evaluate_model(model_linear, X_test, y_test)\n",
    "y_pred_linear = model_linear.predict(X_test)"
   ]
  },
  {
   "cell_type": "code",
   "execution_count": 21,
   "id": "018a5c3a-a9b7-4e36-a9e7-b6afa0c494ac",
   "metadata": {},
   "outputs": [
    {
     "data": {
      "image/png": "[encoded data removed]",
      "text/plain": [
       "<Figure size 800x400 with 1 Axes>"
      ]
     },
     "metadata": {},
     "output_type": "display_data"
    }
   ],
   "source": [
    "# Visualisasi grafik akurasi\n",
    "plt.figure(figsize=(8, 4))\n",
    "\n",
    "\n",
    "plt.plot(range(1, len(precision) + 1), precision, marker='s', linestyle='solid', color='g', label='Precision') \n",
    "plt.plot(range(1, len(recalls) + 1), recalls, marker='s', linestyle='solid', color='r', label='Recall') \n",
    "plt.plot(range(1, len(accuracies) + 1), accuracies, marker='s', linestyle='solid', color='b', label='Akurasi')\n",
    "plt.plot(range(1, len(fscore) + 1), fscore, marker='s', linestyle='solid', color='orange', label='F1 Score')\n",
    "\n",
    "plt.title(' 10 Fold Cross Validation SVM')\n",
    "plt.xlabel('Fold')\n",
    "plt.xticks(range(1, len(accuracies) + 1))\n",
    "plt.ylim(0.5, 1)  # Set limit for y-axis\n",
    "plt.grid()\n",
    "plt.legend()\n",
    "plt.show()"
   ]
  },
  {
   "cell_type": "code",
   "execution_count": 22,
   "id": "e71bd1bc-491f-457a-ba7f-d57660c9faec",
   "metadata": {},
   "outputs": [
    {
     "data": {
      "image/png": "[encoded data removed]",
      "text/plain": [
       "<Figure size 800x600 with 2 Axes>"
      ]
     },
     "metadata": {},
     "output_type": "display_data"
    }
   ],
   "source": [
    "cnf_matrix_linear_nopso = confusion_matrix(y_test,y_pred_linear,labels=[0,1,2])\n",
    "\n",
    "# Membuat visualisasi confusion matrix\n",
    "plt.figure(figsize=(8, 6))\n",
    "sns.heatmap(cnf_matrix_linear_nopso, annot=True, fmt='d', cmap='Blues', xticklabels=['Negatif' ,'Netral','Positif'], yticklabels=['Negatif','Netral','Positif'])\n",
    "plt.xlabel('Predicted')\n",
    "plt.ylabel('Actual')\n",
    "plt.title('Confusion Matrix SVM Tanpa PSO')\n",
    "plt.show()"
   ]
  },
  {
   "cell_type": "markdown",
   "id": "ab340e23-0d6f-4f17-81c5-23aa782bb596",
   "metadata": {},
   "source": [
    "## SVM PSO"
   ]
  },
  {
   "cell_type": "code",
   "execution_count": 45,
   "id": "705d6bca-12af-4f88-9970-2cb6f46c3f08",
   "metadata": {},
   "outputs": [],
   "source": [
    "def objective_function(params, kernel, X_train, y_train, X_test, y_test):\n",
    "    C, gamma = params \n",
    "    model = svm.SVC(kernel=kernel, C=C, gamma=gamma) \n",
    "    model.fit(X_train, y_train)\n",
    "    predictions = model.predict(X_test)\n",
    "    return -accuracy_score(y_test, predictions)  # Mengembalikan nilai negatif untuk memaksimalkan"
   ]
  },
  {
   "cell_type": "code",
   "execution_count": 46,
   "id": "ce1cf11d-3a83-49a1-8cde-507b29ae7893",
   "metadata": {},
   "outputs": [],
   "source": [
    "# Kelas untuk Partikel\n",
    "class Particle:\n",
    "    def __init__(self, bounds, kernel, X_train, y_train, X_test, y_test):\n",
    "        self.position = np.random.uniform(bounds[0], bounds[1], size=len(bounds[0]))\n",
    "        self.velocity = np.random.uniform(-1, 1, size=len(bounds[0]))\n",
    "        self.best_position = np.copy(self.position)\n",
    "        self.best_value = objective_function(self.position, kernel, X_train, y_train, X_test, y_test)\n",
    "\n",
    "    def update_velocity(self, global_best_position, inertia_weight=0.5, cognitive_weight=1.4, social_weight=0.8):\n",
    "        r1 = np.random.rand(len(self.position))\n",
    "        r2 = np.random.rand(len(self.position))\n",
    "        cognitive_component = cognitive_weight * r1 * (self.best_position - self.position)\n",
    "        social_component = social_weight * r2 * (global_best_position - self.position)\n",
    "        self.velocity = inertia_weight * self.velocity + cognitive_component + social_component\n",
    "\n",
    "    def update_position(self, bounds, kernel, X_train, y_train, X_test, y_test):\n",
    "        self.position += self.velocity\n",
    "        # Pastikan posisi tetap dalam batas\n",
    "        self.position = np.clip(self.position, bounds[0], bounds[1])\n",
    "        current_value = objective_function(self.position, kernel, X_train, y_train, X_test, y_test)\n",
    "        if current_value < self.best_value:\n",
    "            self.best_value = current_value\n",
    "            self.best_position = np.copy(self.position)\n",
    "            # Fungsi utama PSO\n",
    "def pso(num_particles, bounds, max_iter, kernel, X_train, y_train, X_test, y_test):\n",
    "    particles = [Particle(bounds, kernel, X_train, y_train, X_test, y_test) for _ in range(num_particles)]\n",
    "    global_best_position = particles[0].best_position\n",
    "    global_best_value = particles[0].best_value\n",
    "\n",
    "    for _ in range(max_iter):\n",
    "        for particle in particles:\n",
    "            particle.update_velocity(global_best_position)\n",
    "            particle.update_position(bounds, kernel, X_train, y_train, X_test, y_test)\n",
    "\n",
    "            if particle.best_value < global_best_value:\n",
    "                global_best_value = particle.best_value\n",
    "                global_best_position = particle.best_position\n",
    "\n",
    "    return global_best_position, global_best_value"
   ]
  },
  {
   "cell_type": "code",
   "execution_count": 47,
   "id": "92ac2a1a-ad64-47da-87e1-4d49f0790271",
   "metadata": {},
   "outputs": [],
   "source": [
    "# Fungsi utama PSO\n",
    "def pso(num_particles, bounds, max_iter, kernel, X_train, y_train, X_test, y_test):\n",
    "    particles = [Particle(bounds, kernel, X_train, y_train, X_test, y_test) for _ in range(num_particles)]\n",
    "    global_best_position = particles[0].best_position\n",
    "    global_best_value = particles[0].best_value\n",
    "\n",
    "    for _ in range(max_iter):\n",
    "        for particle in particles:\n",
    "            particle.update_velocity(global_best_position)\n",
    "            particle.update_position(bounds, kernel, X_train, y_train, X_test, y_test)\n",
    "\n",
    "            if particle.best_value < global_best_value:\n",
    "                global_best_value = particle.best_value\n",
    "                global_best_position = particle.best_position\n",
    "\n",
    "    return global_best_position, global_best_value"
   ]
  },
  {
   "cell_type": "code",
   "execution_count": 119,
   "id": "bd84f240-22b2-44ba-9aaa-68909faa388e",
   "metadata": {},
   "outputs": [
    {
     "name": "stdout",
     "output_type": "stream",
     "text": [
      "Best Parameters RBF: C=10.455674691618418, gamma=0.309447969877839\n"
     ]
    }
   ],
   "source": [
    "# Parameter PSO\n",
    "bounds = (np.array([0.1, 0.001]), np.array([100, 1]))  # Batas untuk C, gamma\n",
    "kernel_choice_r = 'rbf'  # Pilih kernel yang diinginkan\n",
    "best_params_r, best_score_r = pso(num_particles=50, bounds=bounds, max_iter=50, kernel=kernel_choice_r, X_train=X_train, y_train=y_train, X_test=X_test, y_test=y_test)\n",
    "\n",
    "print(\"Best Parameters RBF: C={}, gamma={}\".format(best_params_r[0], best_params_r[1]))"
   ]
  },
  {
   "cell_type": "code",
   "execution_count": 126,
   "id": "ce66c3d9-239f-4bfa-a01e-458ac914f2f6",
   "metadata": {},
   "outputs": [],
   "source": [
    "best_C_r = best_params_r[0]\n",
    "best_gamma_r = best_params_r[1]"
   ]
  },
  {
   "cell_type": "code",
   "execution_count": 23,
   "id": "748560b7-350e-4d04-a34e-9120a62db603",
   "metadata": {},
   "outputs": [
    {
     "name": "stdout",
     "output_type": "stream",
     "text": [
      "Jml. Fitur\t: 5932\n"
     ]
    }
   ],
   "source": [
    "# Melatih model akhir dengan parameter terbaik\n",
    "final_model_rbf = train_svm_model(X_train, y_train, kernel='rbf', C=10.45, gamma=0.309)"
   ]
  },
  {
   "cell_type": "code",
   "execution_count": 24,
   "id": "36e05b21-a527-4090-8330-e44fd104a173",
   "metadata": {},
   "outputs": [
    {
     "name": "stdout",
     "output_type": "stream",
     "text": [
      "              precision    recall  f1-score   support\n",
      "\n",
      "           0       0.74      0.82      0.77        92\n",
      "           1       0.86      0.87      0.86       119\n",
      "           2       0.74      0.65      0.69        95\n",
      "\n",
      "    accuracy                           0.78       306\n",
      "   macro avg       0.78      0.78      0.78       306\n",
      "weighted avg       0.78      0.78      0.78       306\n",
      "\n",
      "Precision\t: 0.784\n",
      "Recall\t\t: 0.7843\n",
      "Accuracy\t: 0.7843\n",
      "F1-Score\t: 0.7827\n"
     ]
    }
   ],
   "source": [
    "# Evaluasi model akhir\n",
    "evaluate_model(final_model_rbf, X_test, y_test)\n",
    "y_pred_rbf = final_model_rbf.predict(X_test)"
   ]
  },
  {
   "cell_type": "code",
   "execution_count": 26,
   "id": "0266b05a-ca2e-484d-8522-fa30fec33382",
   "metadata": {},
   "outputs": [
    {
     "name": "stdout",
     "output_type": "stream",
     "text": [
      "# Fold 1:\n",
      "Accuracy: 0.7717\n",
      "Precision: 0.7697\n",
      "Recall: 0.7691\n",
      "F1 Score: 0.7684\n",
      "# Fold 2:\n",
      "Accuracy: 0.7572\n",
      "Precision: 0.7566\n",
      "Recall: 0.7588\n",
      "F1 Score: 0.7572\n",
      "# Fold 3:\n",
      "Accuracy: 0.7029\n",
      "Precision: 0.7033\n",
      "Recall: 0.7147\n",
      "F1 Score: 0.7071\n",
      "# Fold 4:\n",
      "Accuracy: 0.7283\n",
      "Precision: 0.7234\n",
      "Recall: 0.7283\n",
      "F1 Score: 0.7241\n",
      "# Fold 5:\n",
      "Accuracy: 0.7527\n",
      "Precision: 0.7502\n",
      "Recall: 0.7537\n",
      "F1 Score: 0.7502\n",
      "# Fold 6:\n",
      "Accuracy: 0.7127\n",
      "Precision: 0.7127\n",
      "Recall: 0.7183\n",
      "F1 Score: 0.7123\n",
      "# Fold 7:\n",
      "Accuracy: 0.7673\n",
      "Precision: 0.7628\n",
      "Recall: 0.7617\n",
      "F1 Score: 0.7614\n",
      "# Fold 8:\n",
      "Accuracy: 0.7418\n",
      "Precision: 0.7485\n",
      "Recall: 0.7419\n",
      "F1 Score: 0.7439\n",
      "# Fold 9:\n",
      "Accuracy: 0.7236\n",
      "Precision: 0.7220\n",
      "Recall: 0.7182\n",
      "F1 Score: 0.7178\n",
      "# Fold 10:\n",
      "Accuracy: 0.7418\n",
      "Precision: 0.7385\n",
      "Recall: 0.7453\n",
      "F1 Score: 0.7400\n",
      "Mean CV Accuracy Score: 0.7400\n",
      "Mean CV Precision Score: 0.7388\n",
      "Mean CV Recall Score: 0.7410\n",
      "Mean CV F-1 Score: 0.7383\n"
     ]
    }
   ],
   "source": [
    "accuracies, precision, recalls, fscore = k_fold_cross_validation(X_train, y_train, kernel='rbf', C=10.45, gamma=0.309)"
   ]
  },
  {
   "cell_type": "code",
   "execution_count": 27,
   "id": "057732e4-2122-4656-9d39-992f809f7409",
   "metadata": {},
   "outputs": [
    {
     "data": {
      "image/png": "[encoded data removed]",
      "text/plain": [
       "<Figure size 800x400 with 1 Axes>"
      ]
     },
     "metadata": {},
     "output_type": "display_data"
    }
   ],
   "source": [
    "# Visualisasi grafik akurasi\n",
    "plt.figure(figsize=(8, 4))\n",
    "\n",
    "\n",
    "plt.plot(range(1, len(precision) + 1), precision, marker='s', linestyle='solid', color='g', label='Precision') \n",
    "plt.plot(range(1, len(recalls) + 1), recalls, marker='s', linestyle='solid', color='r', label='Recall') \n",
    "plt.plot(range(1, len(accuracies) + 1), accuracies, marker='s', linestyle='solid', color='b', label='Akurasi')\n",
    "plt.plot(range(1, len(fscore) + 1), fscore, marker='s', linestyle='solid', color='orange', label='F1 Score')\n",
    "\n",
    "plt.title(' 10 Fold Cross Validation SVM-PSO')\n",
    "plt.xlabel('Fold')\n",
    "plt.xticks(range(1, len(accuracies) + 1))\n",
    "plt.ylim(0.5, 1)  # Set limit for y-axis\n",
    "plt.grid()\n",
    "plt.legend()\n",
    "plt.show()"
   ]
  },
  {
   "cell_type": "code",
   "execution_count": 141,
   "id": "66247226-6d0d-4fe1-b971-e0d921b8977f",
   "metadata": {},
   "outputs": [
    {
     "name": "stdout",
     "output_type": "stream",
     "text": [
      "Test Score: 0.7843137254901961\n"
     ]
    }
   ],
   "source": [
    "test_score = final_model_rbf.score(X_test, y_test)\n",
    "print(f\"Test Score: {test_score}\")"
   ]
  },
  {
   "cell_type": "code",
   "execution_count": 26,
   "id": "e0b87805-fc06-4c39-a16d-6cb80522743b",
   "metadata": {},
   "outputs": [
    {
     "data": {
      "image/png": "[encoded data removed]",
      "text/plain": [
       "<Figure size 800x600 with 2 Axes>"
      ]
     },
     "metadata": {},
     "output_type": "display_data"
    }
   ],
   "source": [
    "cnf_matrix_rbf_pso = confusion_matrix(y_test,y_pred_rbf,labels=[0,1,2])\n",
    "\n",
    "# Membuat visualisasi confusion matrix\n",
    "plt.figure(figsize=(8, 6))\n",
    "sns.heatmap(cnf_matrix_rbf_pso, annot=True, fmt='d', cmap='Blues', xticklabels=['Negatif' ,'Netral','Positif'], yticklabels=['Negatif','Netral','Positif'])\n",
    "plt.xlabel('Predicted')\n",
    "plt.ylabel('Actual')\n",
    "plt.title('Confusion Matrix SVM Dengan PSO')\n",
    "plt.show()"
   ]
  },
  {
   "cell_type": "code",
   "execution_count": 33,
   "id": "1b3a3f80-8d6a-4b7d-b723-b2524afa8a0d",
   "metadata": {},
   "outputs": [
    {
     "name": "stdout",
     "output_type": "stream",
     "text": [
      "Nama Model\t: model-svm-pso.pickle\n"
     ]
    }
   ],
   "source": [
    "import pickle\n",
    "# Simpan Model\n",
    "### KODE PROGRAM\n",
    "filename = f'model-svm-pso.pickle'\n",
    "pickle.dump(final_model_rbf, open(filename, 'wb'))\n",
    "vectorizer.stop_words_ = None\n",
    "clf = final_model_rbf\n",
    "with open(filename, 'wb') as fout:\n",
    "    pickle.dump((vectorizer,clf), fout)\n",
    "print(f'Nama Model\\t: {filename}')"
   ]
  },
  {
   "cell_type": "markdown",
   "id": "35e63079-16a1-440a-82ea-e113764b9fca",
   "metadata": {},
   "source": [
    "# Prediksi"
   ]
  },
  {
   "cell_type": "code",
   "execution_count": 34,
   "id": "2253d811-4a6d-4d4e-894d-d3a35ea4df9f",
   "metadata": {},
   "outputs": [
    {
     "name": "stdout",
     "output_type": "stream",
     "text": [
      "[2]\n",
      "Teks\t\t:  kenapa tiktok shop harus ditutup padahal bagus kalau ada tiktok shop \n",
      "Sentimen\t:  Ulasan positif\n"
     ]
    }
   ],
   "source": [
    "filename = 'model-svm-pso.pickle'\n",
    "fs_label = filename[10:13];\n",
    "text = ['kenapa tiktok shop harus ditutup padahal bagus kalau ada tiktok shop ']\n",
    "with open(filename, 'rb') as fin:\n",
    "    vectorizer, clf = pickle.load(fin)\n",
    "    tfidf_text_vectors = vectorizer.transform(text)\n",
    "    y_pred = clf.predict(tfidf_text_vectors)\n",
    "y_pred = clf.predict(tfidf_text_vectors)\n",
    "print(y_pred)\n",
    "if y_pred==1:\n",
    "    sentimen_svm = 'Ulasan netral'\n",
    "elif y_pred == 0:\n",
    "    sentimen_svm = 'Ulasan negatif'\n",
    "elif y_pred ==2:\n",
    "    sentimen_svm = 'Ulasan positif'\n",
    "print('Teks\\t\\t: ', text[0])\n",
    "print('Sentimen\\t: ', sentimen_svm) "
   ]
  },
  {
   "cell_type": "code",
   "execution_count": 24,
   "id": "b73ee036-9010-49b9-bf88-daa37408144e",
   "metadata": {},
   "outputs": [
    {
     "data": {
      "text/html": [
       "<div>\n",
       "<style scoped>\n",
       "    .dataframe tbody tr th:only-of-type {\n",
       "        vertical-align: middle;\n",
       "    }\n",
       "\n",
       "    .dataframe tbody tr th {\n",
       "        vertical-align: top;\n",
       "    }\n",
       "\n",
       "    .dataframe thead th {\n",
       "        text-align: right;\n",
       "    }\n",
       "</style>\n",
       "<table border=\"1\" class=\"dataframe\">\n",
       "  <thead>\n",
       "    <tr style=\"text-align: right;\">\n",
       "      <th></th>\n",
       "      <th>text</th>\n",
       "      <th>label</th>\n",
       "    </tr>\n",
       "  </thead>\n",
       "  <tbody>\n",
       "    <tr>\n",
       "      <th>0</th>\n",
       "      <td>Tiktokshop mbalik tapi harga2nya masih lebih m...</td>\n",
       "      <td>1</td>\n",
       "    </tr>\n",
       "    <tr>\n",
       "      <th>1</th>\n",
       "      <td>@tanyakanrl Gaakan bisalah wkw, tiktokshop di ...</td>\n",
       "      <td>2</td>\n",
       "    </tr>\n",
       "    <tr>\n",
       "      <th>2</th>\n",
       "      <td>tiktokshop ditutup jir, baru ngeh fiturnya dah...</td>\n",
       "      <td>2</td>\n",
       "    </tr>\n",
       "    <tr>\n",
       "      <th>3</th>\n",
       "      <td>@Prynkaslma Wkwkkw gara2 tiktok shop tutup buk...</td>\n",
       "      <td>0</td>\n",
       "    </tr>\n",
       "    <tr>\n",
       "      <th>4</th>\n",
       "      <td>sebenernya tiktokshop tuh ditutup gara gara yg...</td>\n",
       "      <td>0</td>\n",
       "    </tr>\n",
       "    <tr>\n",
       "      <th>5</th>\n",
       "      <td>ngakak bgt mama marah marah karna tiktok shop ...</td>\n",
       "      <td>0</td>\n",
       "    </tr>\n",
       "    <tr>\n",
       "      <th>6</th>\n",
       "      <td>Lucu ini si tiktok akusisi tokopedia buka tikt...</td>\n",
       "      <td>2</td>\n",
       "    </tr>\n",
       "    <tr>\n",
       "      <th>7</th>\n",
       "      <td>Tokped shopee dan e commerce yang lain ibarat ...</td>\n",
       "      <td>0</td>\n",
       "    </tr>\n",
       "    <tr>\n",
       "      <th>8</th>\n",
       "      <td>@Depa_29 @tanyakanrl Bukan soal drama nya, pas...</td>\n",
       "      <td>0</td>\n",
       "    </tr>\n",
       "    <tr>\n",
       "      <th>9</th>\n",
       "      <td>Bisa di bilang cukup sedih TikTok-shop mau di ...</td>\n",
       "      <td>0</td>\n",
       "    </tr>\n",
       "  </tbody>\n",
       "</table>\n",
       "</div>"
      ],
      "text/plain": [
       "                                                text  label\n",
       "0  Tiktokshop mbalik tapi harga2nya masih lebih m...      1\n",
       "1  @tanyakanrl Gaakan bisalah wkw, tiktokshop di ...      2\n",
       "2  tiktokshop ditutup jir, baru ngeh fiturnya dah...      2\n",
       "3  @Prynkaslma Wkwkkw gara2 tiktok shop tutup buk...      0\n",
       "4  sebenernya tiktokshop tuh ditutup gara gara yg...      0\n",
       "5  ngakak bgt mama marah marah karna tiktok shop ...      0\n",
       "6  Lucu ini si tiktok akusisi tokopedia buka tikt...      2\n",
       "7  Tokped shopee dan e commerce yang lain ibarat ...      0\n",
       "8  @Depa_29 @tanyakanrl Bukan soal drama nya, pas...      0\n",
       "9  Bisa di bilang cukup sedih TikTok-shop mau di ...      0"
      ]
     },
     "execution_count": 24,
     "metadata": {},
     "output_type": "execute_result"
    }
   ],
   "source": [
    "# Load data dari CSV\n",
    "df_sample = pd.read_csv('sample_data_prediksi.csv')\n",
    "df_sample.head(10)"
   ]
  },
  {
   "cell_type": "markdown",
   "id": "c852f0e2-e5c2-448b-9a84-3629184ed025",
   "metadata": {},
   "source": [
    "## Preprocessing data prediksi"
   ]
  },
  {
   "cell_type": "code",
   "execution_count": 32,
   "id": "044ff6fd-4fbd-44bf-99ed-d18b3ec84432",
   "metadata": {},
   "outputs": [],
   "source": [
    "import pickle"
   ]
  },
  {
   "cell_type": "code",
   "execution_count": 71,
   "id": "c40ef46e-b63f-4d28-b9b7-64fe12ce2ca4",
   "metadata": {},
   "outputs": [],
   "source": [
    "df_sample = pd.read_csv('data_prediksi_2.csv')"
   ]
  },
  {
   "cell_type": "code",
   "execution_count": 43,
   "id": "4fd2d61b-6995-44f5-a345-93cca6921643",
   "metadata": {},
   "outputs": [],
   "source": [
    "def preprocess_text(text):\n",
    "    # Case folding\n",
    "    text = text.lower()\n",
    "\n",
    "    # Filtering\n",
    "    #menghapus username twitter\n",
    "    text = re.sub('@[^\\s]+','',text)\n",
    "    # remove mention, link, hashtag\n",
    "    text = ' '.join(re.sub(\"([@#][A-Za-z0-9]+)|(\\w+:\\/\\/\\S+)\",\" \", text).split())\n",
    "    # Memperbaiki pemisahan kata yang salah menggunakan regex\n",
    "    text = re.sub(r'([a-zA-Z])\\-([a-zA-Z])', r'\\1 \\2', text)\n",
    "    # remove tab, new line, ans back slice\n",
    "    text = text.replace('\\\\t',\" \").replace('\\\\n',\" \").replace('\\\\u',\" \").replace('\\\\',\"\")\n",
    "    # remove non ASCII (emoticon, chinese word, .etc)\n",
    "    text = text.encode('ascii', 'replace').decode('ascii')\n",
    "    #remove punctuation\n",
    "    text = re.sub(r'[{}]+'.format(re.escape(string.punctuation)), ' ', text)\n",
    "    # remove white space\n",
    "    text = text.strip()\n",
    "    # Remove numbers\n",
    "    text = re.sub(r'\\d+', '', text)  # Menghapus semua angka\n",
    "    #remove multiple white space\n",
    "    text = re.sub('\\s+',' ',text)\n",
    "    # Mengganti \"tiktokshop\" menjadi \"tiktok shop\"\n",
    "    text = re.sub(r'tiktokshop', 'tiktok shop', text, flags=re.IGNORECASE)\n",
    "    # remove incomplete URL\n",
    "    text = text.replace(\"http://\", \" \").replace(\"https://\", \" \")\n",
    "    # Tokenizing\n",
    "    words = word_tokenize(text)\n",
    "\n",
    "    # Load slang words\n",
    "    kamusSlang = eval(open(\"slangwords.txt\").read())\n",
    "    pattern = re.compile(r'\\b(' + '|'.join(kamusSlang.keys()) + r')\\b')\n",
    "    content = []\n",
    "    for kata in words:\n",
    "        filterSlang = pattern.sub(lambda x: kamusSlang[x.group()], kata)\n",
    "        content.append(filterSlang.lower())\n",
    "    \n",
    "    # Stemming\n",
    "    factory = StemmerFactory()\n",
    "    stemmer = factory.create_stemmer()\n",
    "    stemmed_text = [stemmer.stem(word) for word in content]\n",
    "\n",
    "    # Mengembalikan teks yang telah diproses\n",
    "    return \" \".join(stemmed_text)"
   ]
  },
  {
   "cell_type": "code",
   "execution_count": 72,
   "id": "c4fac2c0-405a-4a09-abaa-b737432175b0",
   "metadata": {},
   "outputs": [
    {
     "name": "stdout",
     "output_type": "stream",
     "text": [
      "0     tiktok shop mbalik tapi harga masih lebih maha...\n",
      "1     gaakan bisa wkw tiktok shop di larang juga buk...\n",
      "2     tiktok shop tutup anjing baru sadar fiturnya d...\n",
      "3               tertawa karena tiktok shop tutup bukann\n",
      "4     benar tiktok shop tuh tutup karena karena yang...\n",
      "5     tertawa sangat mama marah marah karena tiktok ...\n",
      "6     lucu ini si tiktok akusisi tokopedia buka tikt...\n",
      "7     tokopedia shopee dan e commerce yang lain ibar...\n",
      "8     bukan soal drama nya pasti ada sedih dari tikt...\n",
      "9     bisa di bilang cukup sedih tiktok shop mau di ...\n",
      "10               tiktok shop ini ga sehat sangat anjing\n",
      "11    wkwkw temporary closed kemarin kak soal tiktok...\n",
      "12                  habis bantu live tiktok shop sayang\n",
      "13    nowadays imma sucker for tiktok live shop rasa...\n",
      "14        tiktok shop memang ga ada gratis ongkos kirim\n",
      "15    habis join live shop di tiktok terus tbtb sell...\n",
      "16         tidak ada opsi lain selain tutup tiktok shop\n",
      "17    lah anjing saya kira tiktok shop doang yang tu...\n",
      "18    para owner di tiktok shop tu kenapa si pada dr...\n",
      "19        sedih hari ini adalah besok tiktok shop tutup\n",
      "20    cw tiktok tiktok shop kata kan resmi tutup tap...\n",
      "21    apakah ini salah dagang tanah abang nope this ...\n",
      "22    karena dcnya biru kata doie jadi galau beli de...\n",
      "23    plisss kembali lagi dong tiktok shop dan toko ...\n",
      "24    tiktok shop tutup tapi apakah yakin beli balik...\n",
      "Name: text, dtype: object\n"
     ]
    }
   ],
   "source": [
    "X_test_sample = df_sample['text']\n",
    "# Terapkan preprocessing pada 20 data uji\n",
    "preprocessed_samples = X_test_sample.apply(preprocess_text)\n",
    "\n",
    "# Menampilkan hasil\n",
    "print(preprocessed_samples)"
   ]
  },
  {
   "cell_type": "code",
   "execution_count": 73,
   "id": "9fbd1f54-7ad4-4966-b8f9-a1e4131d0edb",
   "metadata": {
    "scrolled": true
   },
   "outputs": [
    {
     "name": "stdout",
     "output_type": "stream",
     "text": [
      "Data  1\n",
      "Teks\t\t:  tiktok shop mbalik tapi harga masih lebih mahal banding app belah seperti shopee dan lazada ga bisa buat kulak jual lagi\n",
      "Sentimen\t:  Ulasan netral\n",
      "Data  2\n",
      "Teks\t\t:  gaakan bisa wkw tiktok shop di larang juga bukan karena minta dagang sana sih tapi gede rasa gede rasa regulasi jangan kegeeran kawan\n",
      "Sentimen\t:  Ulasan positif\n",
      "Data  3\n",
      "Teks\t\t:  tiktok shop tutup anjing baru sadar fiturnya deh tidak ada uang\n",
      "Sentimen\t:  Ulasan positif\n",
      "Data  4\n",
      "Teks\t\t:  tertawa karena tiktok shop tutup bukann\n",
      "Sentimen\t:  Ulasan negatif\n",
      "Data  5\n",
      "Teks\t\t:  benar tiktok shop tuh tutup karena karena yang dagang tanah abang atau titip saing deh\n",
      "Sentimen\t:  Ulasan negatif\n",
      "Data  6\n",
      "Teks\t\t:  tertawa sangat mama marah marah karena tiktok shop buka lagi kata bisa bisa aku check out melulu\n",
      "Sentimen\t:  Ulasan negatif\n",
      "Data  7\n",
      "Teks\t\t:  lucu ini si tiktok akusisi tokopedia buka tiktok shop lagi lah isi sama seperti dulu belum tutup tidak ada isi tokpednya cm tulis doang wkwkwk memang paling enak ngibulin perintah\n",
      "Sentimen\t:  Ulasan positif\n",
      "Data  8\n",
      "Teks\t\t:  tokopedia shopee dan e commerce yang lain ibarat mall rumah toko yang berijin otomatis kena pajak sedang tiktok itu ijinnya untuk media sosial dan tiktok shop ibarat pkl yang tidak ada ijinnya perintah punya opsi beku tiktok shop atau tiktok shop urus ijin e commerce\n",
      "Sentimen\t:  Ulasan positif\n",
      "Data  9\n",
      "Teks\t\t:  bukan soal drama nya pasti ada sedih dari tiktok shop tutup orang yang biasa jadi host live jadi bingung bres ini gimana terus karyawan yang biasa terima order beberapa e commerce hilang ini satu pasti ada efek nya juga\n",
      "Sentimen\t:  Ulasan negatif\n",
      "Data  10\n",
      "Teks\t\t:  bisa di bilang cukup sedih tiktok shop mau di tutup karena cukup sering belanja lalu tiktok kalau deh di tutup belah ono masih sepi juga deh iya jangan tunjuk yang online lagi karena ga semua orang sekarang suka belanja offline belum lagi cari parkir macet harus nawar dan lain nya\n",
      "Sentimen\t:  Ulasan negatif\n",
      "Data  11\n",
      "Teks\t\t:  tiktok shop ini ga sehat sangat anjing\n",
      "Sentimen\t:  Ulasan negatif\n",
      "Data  12\n",
      "Teks\t\t:  wkwkw temporary closed kemarin kak soal tiktok shop e tutup ndabisa kulak\n",
      "Sentimen\t:  Ulasan negatif\n",
      "Data  13\n",
      "Teks\t\t:  habis bantu live tiktok shop sayang\n",
      "Sentimen\t:  Ulasan positif\n",
      "Data  14\n",
      "Teks\t\t:  nowadays imma sucker for tiktok live shop rasa mcm nk stop tgok tiktok sebab kalau buka mesti beli something\n",
      "Sentimen\t:  Ulasan negatif\n",
      "Data  15\n",
      "Teks\t\t:  tiktok shop memang ga ada gratis ongkos kirim\n",
      "Sentimen\t:  Ulasan negatif\n",
      "Data  16\n",
      "Teks\t\t:  habis join live shop di tiktok terus tbtb sellernya bilang haechan sadboy grgr postingan mark saya seperti hah apasihhh\n",
      "Sentimen\t:  Ulasan positif\n",
      "Data  17\n",
      "Teks\t\t:  tidak ada opsi lain selain tutup tiktok shop\n",
      "Sentimen\t:  Ulasan negatif\n",
      "Data  18\n",
      "Teks\t\t:  lah anjing saya kira tiktok shop doang yang tutup nyata shopee ln juga\n",
      "Sentimen\t:  Ulasan negatif\n",
      "Data  19\n",
      "Teks\t\t:  para owner di tiktok shop tu kenapa si pada drama tiktok shop tutup kan masih bisa jual di paltform lain\n",
      "Sentimen\t:  Ulasan netral\n",
      "Data  20\n",
      "Teks\t\t:  sedih hari ini adalah besok tiktok shop tutup\n",
      "Sentimen\t:  Ulasan negatif\n",
      "Data  21\n",
      "Teks\t\t:  cw tiktok tiktok shop kata kan resmi tutup tapi tadi lewat fyp sender orang masih ada yang jual cuma cara check out nya beda\n",
      "Sentimen\t:  Ulasan negatif\n",
      "Data  22\n",
      "Teks\t\t:  apakah ini salah dagang tanah abang nope this masalah is beyond itu tanah abang cuma trigger saja lebih ke arah kita ga siap sama tiktok shop sehingga ya sudah daripada pusing langsung tutup saja dulu\n",
      "Sentimen\t:  Ulasan positif\n",
      "Data  23\n",
      "Teks\t\t:  karena dcnya biru kata doie jadi galau beli denim atau apaaa soal lihat outfit biru di tiktok shop lucuuu paraaahh tapi tadi cekot denim sih aaakkkk labil\n",
      "Sentimen\t:  Ulasan positif\n",
      "Data  24\n",
      "Teks\t\t:  plisss kembali lagi dong tiktok shop dan toko oren dari ln\n",
      "Sentimen\t:  Ulasan netral\n",
      "Data  25\n",
      "Teks\t\t:  tiktok shop tutup tapi apakah yakin beli balik ke pasar konvensional saat masih ada lazada shopee dan lain\n",
      "Sentimen\t:  Ulasan negatif\n"
     ]
    }
   ],
   "source": [
    "text_samples = preprocessed_samples.tolist()  # Mengambil kolom 'text' sebagai list\n",
    "\n",
    "# Load model\n",
    "filename = 'model-svm-pso.pickle'\n",
    "with open(filename, 'rb') as fin:\n",
    "    vectorizer, clf = pickle.load(fin)\n",
    "\n",
    "# Transformasi data menggunakan vectorizer\n",
    "tfidf_text_vectors = vectorizer.transform(text_samples).toarray()  # Menggunakan text_samples\n",
    "\n",
    "# Melakukan prediksi\n",
    "y_pred = clf.predict(tfidf_text_vectors)\n",
    "\n",
    "# Menampilkan hasil prediksi\n",
    "for i, text in enumerate(text_samples):  # Menggunakan text_samples\n",
    "    if y_pred[i] == 1:\n",
    "        sentimen_svm = 'Ulasan netral'\n",
    "    elif y_pred[i] == 0:\n",
    "        sentimen_svm = 'Ulasan negatif'\n",
    "    elif y_pred[i] == 2:\n",
    "        sentimen_svm = 'Ulasan positif'\n",
    "    print('Data ',i+1)\n",
    "    print('Teks\\t\\t: ', text)\n",
    "    print('Sentimen\\t: ', sentimen_svm)"
   ]
  }
 ],
 "metadata": {
  "kernelspec": {
   "display_name": "Python 3 (ipykernel)",
   "language": "python",
   "name": "python3"
  },
  "language_info": {
   "codemirror_mode": {
    "name": "ipython",
    "version": 3
   },
   "file_extension": ".py",
   "mimetype": "text/x-python",
   "name": "python",
   "nbconvert_exporter": "python",
   "pygments_lexer": "ipython3",
   "version": "3.11.4"
  }
 },
 "nbformat": 4,
 "nbformat_minor": 5
}
